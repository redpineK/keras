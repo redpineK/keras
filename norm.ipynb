{
  "cells": [
    {
      "cell_type": "markdown",
      "metadata": {
        "id": "view-in-github",
        "colab_type": "text"
      },
      "source": [
        "<a href=\"https://colab.research.google.com/github/redpineK/keras/blob/main/norm.ipynb\" target=\"_parent\"><img src=\"https://colab.research.google.com/assets/colab-badge.svg\" alt=\"Open In Colab\"/></a>"
      ]
    },
    {
      "cell_type": "markdown",
      "metadata": {
        "id": "AdrF4FaOD366"
      },
      "source": [
        "# What is Norm?"
      ]
    },
    {
      "cell_type": "markdown",
      "metadata": {
        "id": "LCMbObTzD367"
      },
      "source": [
        "In linear algebra, functional analysis, and related areas of mathematics,  \n",
        "a norm is a function that assigns a strictly positive length or size to each vector in a vector space (by wikipedia)"
      ]
    },
    {
      "cell_type": "markdown",
      "metadata": {
        "id": "lMJtSa2TD367"
      },
      "source": [
        "$$ \\lVert x \\rVert_p = ({\\sum_{i=1}^{n} |x_i|^p})^\\frac{1}{p} $$"
      ]
    },
    {
      "cell_type": "markdown",
      "metadata": {
        "id": "KgxgmVEED368"
      },
      "source": [
        "# L1 Norm"
      ]
    },
    {
      "cell_type": "markdown",
      "metadata": {
        "id": "VujYsgeuD368"
      },
      "source": [
        "Sum of Absolute values"
      ]
    },
    {
      "cell_type": "markdown",
      "metadata": {
        "id": "N6wtbWbcD368"
      },
      "source": [
        "$$ \\lVert x \\rVert_1 = ({\\sum_{i=1}^{n} |x_i|}) $$"
      ]
    },
    {
      "cell_type": "markdown",
      "metadata": {
        "id": "MTWfj2iqD368"
      },
      "source": [
        "## example"
      ]
    },
    {
      "cell_type": "markdown",
      "metadata": {
        "id": "0RV6VqhcD368"
      },
      "source": [
        "Let's suppose we play game with dice.  \n",
        "Dice has value of -3, -2, -1, 1, 2, 3  \n",
        "positive number means you move forward according to the value  \n",
        "negative number means you move backward according to the value"
      ]
    },
    {
      "cell_type": "code",
      "execution_count": 1,
      "metadata": {
        "collapsed": true,
        "id": "uhntJXScD368"
      },
      "outputs": [],
      "source": [
        "import pandas as pd\n",
        "import numpy as np\n",
        "from numpy import linalg"
      ]
    },
    {
      "cell_type": "code",
      "execution_count": 2,
      "metadata": {
        "collapsed": true,
        "id": "KtrG-UASD369"
      },
      "outputs": [],
      "source": [
        "df = pd.DataFrame(np.random.randint(low=-3, high=3, size=(3, 3)))"
      ]
    },
    {
      "cell_type": "code",
      "execution_count": 3,
      "metadata": {
        "collapsed": true,
        "id": "A3DITO0MD369"
      },
      "outputs": [],
      "source": [
        "df.columns=['move_1', 'move_2', 'move_3']"
      ]
    },
    {
      "cell_type": "code",
      "execution_count": 4,
      "metadata": {
        "colab": {
          "base_uri": "https://localhost:8080/",
          "height": 143
        },
        "id": "LMHT5ZF4D369",
        "outputId": "15128337-fc6c-4781-f090-96e1e9ab77f5"
      },
      "outputs": [
        {
          "output_type": "execute_result",
          "data": {
            "text/plain": [
              "   move_1  move_2  move_3\n",
              "0      -1      -1       0\n",
              "1      -2      -3      -2\n",
              "2       1      -3       1"
            ],
            "text/html": [
              "\n",
              "  <div id=\"df-6514c186-1999-427b-a9fa-da3d3930a85b\">\n",
              "    <div class=\"colab-df-container\">\n",
              "      <div>\n",
              "<style scoped>\n",
              "    .dataframe tbody tr th:only-of-type {\n",
              "        vertical-align: middle;\n",
              "    }\n",
              "\n",
              "    .dataframe tbody tr th {\n",
              "        vertical-align: top;\n",
              "    }\n",
              "\n",
              "    .dataframe thead th {\n",
              "        text-align: right;\n",
              "    }\n",
              "</style>\n",
              "<table border=\"1\" class=\"dataframe\">\n",
              "  <thead>\n",
              "    <tr style=\"text-align: right;\">\n",
              "      <th></th>\n",
              "      <th>move_1</th>\n",
              "      <th>move_2</th>\n",
              "      <th>move_3</th>\n",
              "    </tr>\n",
              "  </thead>\n",
              "  <tbody>\n",
              "    <tr>\n",
              "      <th>0</th>\n",
              "      <td>-1</td>\n",
              "      <td>-1</td>\n",
              "      <td>0</td>\n",
              "    </tr>\n",
              "    <tr>\n",
              "      <th>1</th>\n",
              "      <td>-2</td>\n",
              "      <td>-3</td>\n",
              "      <td>-2</td>\n",
              "    </tr>\n",
              "    <tr>\n",
              "      <th>2</th>\n",
              "      <td>1</td>\n",
              "      <td>-3</td>\n",
              "      <td>1</td>\n",
              "    </tr>\n",
              "  </tbody>\n",
              "</table>\n",
              "</div>\n",
              "      <button class=\"colab-df-convert\" onclick=\"convertToInteractive('df-6514c186-1999-427b-a9fa-da3d3930a85b')\"\n",
              "              title=\"Convert this dataframe to an interactive table.\"\n",
              "              style=\"display:none;\">\n",
              "        \n",
              "  <svg xmlns=\"http://www.w3.org/2000/svg\" height=\"24px\"viewBox=\"0 0 24 24\"\n",
              "       width=\"24px\">\n",
              "    <path d=\"M0 0h24v24H0V0z\" fill=\"none\"/>\n",
              "    <path d=\"M18.56 5.44l.94 2.06.94-2.06 2.06-.94-2.06-.94-.94-2.06-.94 2.06-2.06.94zm-11 1L8.5 8.5l.94-2.06 2.06-.94-2.06-.94L8.5 2.5l-.94 2.06-2.06.94zm10 10l.94 2.06.94-2.06 2.06-.94-2.06-.94-.94-2.06-.94 2.06-2.06.94z\"/><path d=\"M17.41 7.96l-1.37-1.37c-.4-.4-.92-.59-1.43-.59-.52 0-1.04.2-1.43.59L10.3 9.45l-7.72 7.72c-.78.78-.78 2.05 0 2.83L4 21.41c.39.39.9.59 1.41.59.51 0 1.02-.2 1.41-.59l7.78-7.78 2.81-2.81c.8-.78.8-2.07 0-2.86zM5.41 20L4 18.59l7.72-7.72 1.47 1.35L5.41 20z\"/>\n",
              "  </svg>\n",
              "      </button>\n",
              "      \n",
              "  <style>\n",
              "    .colab-df-container {\n",
              "      display:flex;\n",
              "      flex-wrap:wrap;\n",
              "      gap: 12px;\n",
              "    }\n",
              "\n",
              "    .colab-df-convert {\n",
              "      background-color: #E8F0FE;\n",
              "      border: none;\n",
              "      border-radius: 50%;\n",
              "      cursor: pointer;\n",
              "      display: none;\n",
              "      fill: #1967D2;\n",
              "      height: 32px;\n",
              "      padding: 0 0 0 0;\n",
              "      width: 32px;\n",
              "    }\n",
              "\n",
              "    .colab-df-convert:hover {\n",
              "      background-color: #E2EBFA;\n",
              "      box-shadow: 0px 1px 2px rgba(60, 64, 67, 0.3), 0px 1px 3px 1px rgba(60, 64, 67, 0.15);\n",
              "      fill: #174EA6;\n",
              "    }\n",
              "\n",
              "    [theme=dark] .colab-df-convert {\n",
              "      background-color: #3B4455;\n",
              "      fill: #D2E3FC;\n",
              "    }\n",
              "\n",
              "    [theme=dark] .colab-df-convert:hover {\n",
              "      background-color: #434B5C;\n",
              "      box-shadow: 0px 1px 3px 1px rgba(0, 0, 0, 0.15);\n",
              "      filter: drop-shadow(0px 1px 2px rgba(0, 0, 0, 0.3));\n",
              "      fill: #FFFFFF;\n",
              "    }\n",
              "  </style>\n",
              "\n",
              "      <script>\n",
              "        const buttonEl =\n",
              "          document.querySelector('#df-6514c186-1999-427b-a9fa-da3d3930a85b button.colab-df-convert');\n",
              "        buttonEl.style.display =\n",
              "          google.colab.kernel.accessAllowed ? 'block' : 'none';\n",
              "\n",
              "        async function convertToInteractive(key) {\n",
              "          const element = document.querySelector('#df-6514c186-1999-427b-a9fa-da3d3930a85b');\n",
              "          const dataTable =\n",
              "            await google.colab.kernel.invokeFunction('convertToInteractive',\n",
              "                                                     [key], {});\n",
              "          if (!dataTable) return;\n",
              "\n",
              "          const docLinkHtml = 'Like what you see? Visit the ' +\n",
              "            '<a target=\"_blank\" href=https://colab.research.google.com/notebooks/data_table.ipynb>data table notebook</a>'\n",
              "            + ' to learn more about interactive tables.';\n",
              "          element.innerHTML = '';\n",
              "          dataTable['output_type'] = 'display_data';\n",
              "          await google.colab.output.renderOutput(dataTable, element);\n",
              "          const docLink = document.createElement('div');\n",
              "          docLink.innerHTML = docLinkHtml;\n",
              "          element.appendChild(docLink);\n",
              "        }\n",
              "      </script>\n",
              "    </div>\n",
              "  </div>\n",
              "  "
            ]
          },
          "metadata": {},
          "execution_count": 4
        }
      ],
      "source": [
        "df.head()"
      ]
    },
    {
      "cell_type": "markdown",
      "metadata": {
        "id": "VmuOei5xD36-"
      },
      "source": [
        "### Who moved the most?"
      ]
    },
    {
      "cell_type": "markdown",
      "metadata": {
        "id": "khu-2tuZD36-"
      },
      "source": [
        "L1 norm can give you answer"
      ]
    },
    {
      "cell_type": "code",
      "execution_count": 5,
      "metadata": {
        "collapsed": true,
        "id": "-aM1YgVuD36-"
      },
      "outputs": [],
      "source": [
        "movememts = df.values"
      ]
    },
    {
      "cell_type": "code",
      "execution_count": 6,
      "metadata": {
        "colab": {
          "base_uri": "https://localhost:8080/"
        },
        "id": "2IUsvgERD36_",
        "outputId": "0a0df329-50c8-404b-b635-04e970a9a708"
      },
      "outputs": [
        {
          "output_type": "execute_result",
          "data": {
            "text/plain": [
              "array([[-1, -1,  0],\n",
              "       [-2, -3, -2],\n",
              "       [ 1, -3,  1]])"
            ]
          },
          "metadata": {},
          "execution_count": 6
        }
      ],
      "source": [
        "movememts"
      ]
    },
    {
      "cell_type": "code",
      "execution_count": 7,
      "metadata": {
        "colab": {
          "base_uri": "https://localhost:8080/"
        },
        "id": "ynV2QI9ID36_",
        "outputId": "87f6568e-e79d-44de-ef83-3cf138dd5877"
      },
      "outputs": [
        {
          "output_type": "execute_result",
          "data": {
            "text/plain": [
              "array([2., 7., 5.])"
            ]
          },
          "metadata": {},
          "execution_count": 7
        }
      ],
      "source": [
        "linalg.norm(movememts, ord=1,axis=1)"
      ]
    },
    {
      "cell_type": "markdown",
      "metadata": {
        "id": "QvZPKdSiD36_"
      },
      "source": [
        "### L1 Norm  in Computer Science"
      ]
    },
    {
      "cell_type": "markdown",
      "metadata": {
        "id": "gPqZVSLgD36_"
      },
      "source": [
        "- L1 Regularization\n",
        "- Computer Vision"
      ]
    },
    {
      "cell_type": "markdown",
      "metadata": {
        "id": "rr13fCCfD36_"
      },
      "source": [
        "# L2 Norm"
      ]
    },
    {
      "cell_type": "markdown",
      "metadata": {
        "id": "KbD5oPMTD36_"
      },
      "source": [
        "The l2 norm of a vector is the square root of the sum of the absolute values squared"
      ]
    },
    {
      "cell_type": "markdown",
      "metadata": {
        "id": "a0W9sdGQD37A"
      },
      "source": [
        "$$ \\lVert x \\rVert_2 = ({\\sum_{i=1}^{n} |x_i|^2})^\\frac{1}{2} $$"
      ]
    },
    {
      "cell_type": "markdown",
      "metadata": {
        "id": "nOe1bFRGD37A"
      },
      "source": [
        "## example"
      ]
    },
    {
      "cell_type": "markdown",
      "metadata": {
        "id": "icHJp3qpD37A"
      },
      "source": [
        "Let's suppose we want to get distance to the position in 2 dimensional space."
      ]
    },
    {
      "cell_type": "code",
      "execution_count": 8,
      "metadata": {
        "collapsed": true,
        "id": "unbvV8qkD37A"
      },
      "outputs": [],
      "source": [
        "df = pd.DataFrame(np.random.randint(low=1, high=10, size=(3, 2)))"
      ]
    },
    {
      "cell_type": "code",
      "execution_count": 9,
      "metadata": {
        "collapsed": true,
        "id": "EX0CCoyZD37A"
      },
      "outputs": [],
      "source": [
        "df.columns=['x', 'y']"
      ]
    },
    {
      "cell_type": "code",
      "execution_count": null,
      "metadata": {
        "id": "BIAE-gZoD37B",
        "outputId": "7501500b-be89-4d26-bb21-40fdc16fc16d"
      },
      "outputs": [
        {
          "data": {
            "text/html": [
              "<div>\n",
              "<style scoped>\n",
              "    .dataframe tbody tr th:only-of-type {\n",
              "        vertical-align: middle;\n",
              "    }\n",
              "\n",
              "    .dataframe tbody tr th {\n",
              "        vertical-align: top;\n",
              "    }\n",
              "\n",
              "    .dataframe thead th {\n",
              "        text-align: right;\n",
              "    }\n",
              "</style>\n",
              "<table border=\"1\" class=\"dataframe\">\n",
              "  <thead>\n",
              "    <tr style=\"text-align: right;\">\n",
              "      <th></th>\n",
              "      <th>x</th>\n",
              "      <th>y</th>\n",
              "    </tr>\n",
              "  </thead>\n",
              "  <tbody>\n",
              "    <tr>\n",
              "      <th>0</th>\n",
              "      <td>9</td>\n",
              "      <td>4</td>\n",
              "    </tr>\n",
              "    <tr>\n",
              "      <th>1</th>\n",
              "      <td>7</td>\n",
              "      <td>3</td>\n",
              "    </tr>\n",
              "    <tr>\n",
              "      <th>2</th>\n",
              "      <td>9</td>\n",
              "      <td>9</td>\n",
              "    </tr>\n",
              "  </tbody>\n",
              "</table>\n",
              "</div>"
            ],
            "text/plain": [
              "   x  y\n",
              "0  9  4\n",
              "1  7  3\n",
              "2  9  9"
            ]
          },
          "execution_count": 10,
          "metadata": {},
          "output_type": "execute_result"
        }
      ],
      "source": [
        "df.head()"
      ]
    },
    {
      "cell_type": "code",
      "execution_count": 10,
      "metadata": {
        "collapsed": true,
        "id": "4JBBkVX-D37B"
      },
      "outputs": [],
      "source": [
        "import matplotlib.pyplot as plt\n",
        "import seaborn as sns\n",
        "%matplotlib inline"
      ]
    },
    {
      "cell_type": "code",
      "execution_count": 11,
      "metadata": {
        "colab": {
          "base_uri": "https://localhost:8080/",
          "height": 251
        },
        "id": "REFUuW26D37B",
        "outputId": "95e5ba34-cdbc-431c-8552-9b59bfd24b5f"
      },
      "outputs": [
        {
          "output_type": "error",
          "ename": "TypeError",
          "evalue": "ignored",
          "traceback": [
            "\u001b[0;31m---------------------------------------------------------------------------\u001b[0m",
            "\u001b[0;31mTypeError\u001b[0m                                 Traceback (most recent call last)",
            "\u001b[0;32m<ipython-input-11-2120daebae09>\u001b[0m in \u001b[0;36m<cell line: 2>\u001b[0;34m()\u001b[0m\n\u001b[1;32m      1\u001b[0m \u001b[0;31m# Create scatterplot of dataframe\u001b[0m\u001b[0;34m\u001b[0m\u001b[0;34m\u001b[0m\u001b[0m\n\u001b[0;32m----> 2\u001b[0;31m sns.lmplot('x', # Horizontal axis\n\u001b[0m\u001b[1;32m      3\u001b[0m            \u001b[0;34m'y'\u001b[0m\u001b[0;34m,\u001b[0m \u001b[0;31m# Vertical axis\u001b[0m\u001b[0;34m\u001b[0m\u001b[0;34m\u001b[0m\u001b[0m\n\u001b[1;32m      4\u001b[0m            \u001b[0mdata\u001b[0m\u001b[0;34m=\u001b[0m\u001b[0mdf\u001b[0m\u001b[0;34m,\u001b[0m \u001b[0;31m# Data source\u001b[0m\u001b[0;34m\u001b[0m\u001b[0;34m\u001b[0m\u001b[0m\n\u001b[1;32m      5\u001b[0m            \u001b[0mfit_reg\u001b[0m\u001b[0;34m=\u001b[0m\u001b[0;32mFalse\u001b[0m\u001b[0;34m,\u001b[0m \u001b[0;31m# Don't fix a regression line\u001b[0m\u001b[0;34m\u001b[0m\u001b[0;34m\u001b[0m\u001b[0m\n",
            "\u001b[0;31mTypeError\u001b[0m: lmplot() got multiple values for argument 'data'"
          ]
        }
      ],
      "source": [
        "# Create scatterplot of dataframe\n",
        "sns.lmplot('x', # Horizontal axis\n",
        "           'y', # Vertical axis\n",
        "           data=df, # Data source\n",
        "           fit_reg=False, # Don't fix a regression line\n",
        "           scatter_kws={\"s\": 200}) # S marker size\n",
        "\n",
        "# Set title\n",
        "plt.title('data point visualization')\n",
        "\n",
        "# Set x-axis label\n",
        "plt.xlabel('X')\n",
        "\n",
        "# Set y-axis label\n",
        "plt.ylabel('Y')"
      ]
    },
    {
      "cell_type": "code",
      "execution_count": 12,
      "metadata": {
        "collapsed": true,
        "id": "TPEmurPVD37B"
      },
      "outputs": [],
      "source": [
        "data_points = df.values"
      ]
    },
    {
      "cell_type": "code",
      "execution_count": 13,
      "metadata": {
        "colab": {
          "base_uri": "https://localhost:8080/"
        },
        "id": "o6-gqj9tD37B",
        "outputId": "a294eab5-e3ae-4633-d928-bad76c22fa70"
      },
      "outputs": [
        {
          "output_type": "execute_result",
          "data": {
            "text/plain": [
              "array([[9, 1],\n",
              "       [3, 7],\n",
              "       [2, 9]])"
            ]
          },
          "metadata": {},
          "execution_count": 13
        }
      ],
      "source": [
        "data_points"
      ]
    },
    {
      "cell_type": "markdown",
      "metadata": {
        "id": "_hYMwWLnD37C"
      },
      "source": [
        "### Which point is the nearest from origin (0,0)?"
      ]
    },
    {
      "cell_type": "code",
      "execution_count": 14,
      "metadata": {
        "colab": {
          "base_uri": "https://localhost:8080/"
        },
        "id": "4nePl5cqD37C",
        "outputId": "e58ccfa6-c995-4737-a9cd-0b5ac237e561"
      },
      "outputs": [
        {
          "output_type": "execute_result",
          "data": {
            "text/plain": [
              "array([9.05538514, 7.61577311, 9.21954446])"
            ]
          },
          "metadata": {},
          "execution_count": 14
        }
      ],
      "source": [
        "linalg.norm(data_points, ord=2,axis=1)"
      ]
    },
    {
      "cell_type": "markdown",
      "metadata": {
        "id": "eVW917J0D37C"
      },
      "source": [
        "### L2 Norm  in Machine Learning"
      ]
    },
    {
      "cell_type": "markdown",
      "metadata": {
        "id": "IymFAJGAD37C"
      },
      "source": [
        "- kNN algorithm\n",
        "- kmean algorithm"
      ]
    },
    {
      "cell_type": "markdown",
      "metadata": {
        "id": "ud78LlJlD37C"
      },
      "source": [
        "# source code in github"
      ]
    },
    {
      "cell_type": "markdown",
      "metadata": {
        "id": "vp-1qH3WD37C"
      },
      "source": [
        "## https://github.com/minsuk-heo/python_tutorial"
      ]
    },
    {
      "cell_type": "code",
      "execution_count": null,
      "metadata": {
        "collapsed": true,
        "id": "q4EkbB9kD37C"
      },
      "outputs": [],
      "source": []
    }
  ],
  "metadata": {
    "kernelspec": {
      "display_name": "Python 3",
      "language": "python",
      "name": "python3"
    },
    "language_info": {
      "codemirror_mode": {
        "name": "ipython",
        "version": 3
      },
      "file_extension": ".py",
      "mimetype": "text/x-python",
      "name": "python",
      "nbconvert_exporter": "python",
      "pygments_lexer": "ipython3",
      "version": "3.6.3"
    },
    "colab": {
      "provenance": [],
      "include_colab_link": true
    }
  },
  "nbformat": 4,
  "nbformat_minor": 0
}