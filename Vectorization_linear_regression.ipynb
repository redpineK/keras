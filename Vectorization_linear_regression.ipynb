{
  "cells": [
    {
      "cell_type": "markdown",
      "metadata": {
        "id": "view-in-github",
        "colab_type": "text"
      },
      "source": [
        "<a href=\"https://colab.research.google.com/github/redpineK/keras/blob/main/Vectorization_linear_regression.ipynb\" target=\"_parent\"><img src=\"https://colab.research.google.com/assets/colab-badge.svg\" alt=\"Open In Colab\"/></a>"
      ]
    },
    {
      "cell_type": "markdown",
      "source": [
        "reference - https://towardsdatascience.com/vectorization-implementation-in-machine-learning-ca652920c55d"
      ],
      "metadata": {
        "id": "7iHqd9aqxYlr"
      }
    },
    {
      "cell_type": "code",
      "source": [
        "!git clone https://github.com/selva86/datasets.git"
      ],
      "metadata": {
        "id": "a1HXh0THvaL2",
        "outputId": "f3329ea5-0c02-422e-9246-b505804d30bc",
        "colab": {
          "base_uri": "https://localhost:8080/"
        }
      },
      "execution_count": null,
      "outputs": [
        {
          "output_type": "stream",
          "name": "stdout",
          "text": [
            "fatal: destination path 'datasets' already exists and is not an empty directory.\n"
          ]
        }
      ]
    },
    {
      "cell_type": "code",
      "execution_count": null,
      "metadata": {
        "id": "a0mOiQZgs50H"
      },
      "outputs": [],
      "source": [
        "import pandas as pd\n",
        "\n",
        "import numpy as np\n",
        "\n",
        "import matplotlib.pyplot as plt\n",
        "plt.style.use('fivethirtyeight')\n",
        "\n",
        "# Internal ipython tool for setting figure size\n",
        "from IPython.core.pylabtools import figsize"
      ]
    },
    {
      "cell_type": "code",
      "execution_count": null,
      "metadata": {
        "id": "-Z8Wa22Ns50K",
        "outputId": "62956efb-c8d3-4173-a28d-1c00b5b4e3d3",
        "colab": {
          "base_uri": "https://localhost:8080/"
        }
      },
      "outputs": [
        {
          "output_type": "execute_result",
          "data": {
            "text/plain": [
              "array([1, 2, 3])"
            ]
          },
          "metadata": {},
          "execution_count": 12
        }
      ],
      "source": [
        "np.array([1,2,3])"
      ]
    },
    {
      "cell_type": "code",
      "execution_count": null,
      "metadata": {
        "id": "hDC89H0Ys50L"
      },
      "outputs": [],
      "source": [
        "data = pd.read_csv('datasets/BostonHousing.csv', encoding = \"ISO-8859-1\")"
      ]
    },
    {
      "cell_type": "code",
      "execution_count": null,
      "metadata": {
        "id": "SdAptaBVs50L",
        "outputId": "806a4050-65ec-4708-92a4-c151c598be30"
      },
      "outputs": [
        {
          "data": {
            "text/html": [
              "<div>\n",
              "<style scoped>\n",
              "    .dataframe tbody tr th:only-of-type {\n",
              "        vertical-align: middle;\n",
              "    }\n",
              "\n",
              "    .dataframe tbody tr th {\n",
              "        vertical-align: top;\n",
              "    }\n",
              "\n",
              "    .dataframe thead th {\n",
              "        text-align: right;\n",
              "    }\n",
              "</style>\n",
              "<table border=\"1\" class=\"dataframe\">\n",
              "  <thead>\n",
              "    <tr style=\"text-align: right;\">\n",
              "      <th></th>\n",
              "      <th>CRIM</th>\n",
              "      <th>ZN</th>\n",
              "      <th>INDUS</th>\n",
              "      <th>CHAS</th>\n",
              "      <th>NX</th>\n",
              "      <th>RM</th>\n",
              "      <th>AGE</th>\n",
              "      <th>DIS</th>\n",
              "      <th>RAD</th>\n",
              "      <th>TAX</th>\n",
              "      <th>PTRATIO</th>\n",
              "      <th>B</th>\n",
              "      <th>LSTAT</th>\n",
              "      <th>MEDV</th>\n",
              "    </tr>\n",
              "  </thead>\n",
              "  <tbody>\n",
              "    <tr>\n",
              "      <th>0</th>\n",
              "      <td>0.00632</td>\n",
              "      <td>18.0</td>\n",
              "      <td>2.31</td>\n",
              "      <td>0</td>\n",
              "      <td>0.538</td>\n",
              "      <td>6.575</td>\n",
              "      <td>65.2</td>\n",
              "      <td>4.0900</td>\n",
              "      <td>1</td>\n",
              "      <td>296.0</td>\n",
              "      <td>15.3</td>\n",
              "      <td>396.90</td>\n",
              "      <td>4.98</td>\n",
              "      <td>24.0</td>\n",
              "    </tr>\n",
              "    <tr>\n",
              "      <th>1</th>\n",
              "      <td>0.02731</td>\n",
              "      <td>0.0</td>\n",
              "      <td>7.07</td>\n",
              "      <td>0</td>\n",
              "      <td>0.469</td>\n",
              "      <td>6.421</td>\n",
              "      <td>78.9</td>\n",
              "      <td>4.9671</td>\n",
              "      <td>2</td>\n",
              "      <td>242.0</td>\n",
              "      <td>17.8</td>\n",
              "      <td>396.90</td>\n",
              "      <td>9.14</td>\n",
              "      <td>21.6</td>\n",
              "    </tr>\n",
              "    <tr>\n",
              "      <th>2</th>\n",
              "      <td>0.02729</td>\n",
              "      <td>0.0</td>\n",
              "      <td>7.07</td>\n",
              "      <td>0</td>\n",
              "      <td>0.469</td>\n",
              "      <td>7.185</td>\n",
              "      <td>61.1</td>\n",
              "      <td>4.9671</td>\n",
              "      <td>2</td>\n",
              "      <td>242.0</td>\n",
              "      <td>17.8</td>\n",
              "      <td>392.83</td>\n",
              "      <td>4.03</td>\n",
              "      <td>34.7</td>\n",
              "    </tr>\n",
              "    <tr>\n",
              "      <th>3</th>\n",
              "      <td>0.03237</td>\n",
              "      <td>0.0</td>\n",
              "      <td>2.18</td>\n",
              "      <td>0</td>\n",
              "      <td>0.458</td>\n",
              "      <td>6.998</td>\n",
              "      <td>45.8</td>\n",
              "      <td>6.0622</td>\n",
              "      <td>3</td>\n",
              "      <td>222.0</td>\n",
              "      <td>18.7</td>\n",
              "      <td>394.63</td>\n",
              "      <td>2.94</td>\n",
              "      <td>33.4</td>\n",
              "    </tr>\n",
              "    <tr>\n",
              "      <th>4</th>\n",
              "      <td>0.06905</td>\n",
              "      <td>0.0</td>\n",
              "      <td>2.18</td>\n",
              "      <td>0</td>\n",
              "      <td>0.458</td>\n",
              "      <td>7.147</td>\n",
              "      <td>54.2</td>\n",
              "      <td>6.0622</td>\n",
              "      <td>3</td>\n",
              "      <td>222.0</td>\n",
              "      <td>18.7</td>\n",
              "      <td>396.90</td>\n",
              "      <td>5.33</td>\n",
              "      <td>36.2</td>\n",
              "    </tr>\n",
              "  </tbody>\n",
              "</table>\n",
              "</div>"
            ],
            "text/plain": [
              "      CRIM    ZN  INDUS  CHAS     NX     RM   AGE     DIS  RAD    TAX  \\\n",
              "0  0.00632  18.0   2.31     0  0.538  6.575  65.2  4.0900    1  296.0   \n",
              "1  0.02731   0.0   7.07     0  0.469  6.421  78.9  4.9671    2  242.0   \n",
              "2  0.02729   0.0   7.07     0  0.469  7.185  61.1  4.9671    2  242.0   \n",
              "3  0.03237   0.0   2.18     0  0.458  6.998  45.8  6.0622    3  222.0   \n",
              "4  0.06905   0.0   2.18     0  0.458  7.147  54.2  6.0622    3  222.0   \n",
              "\n",
              "   PTRATIO       B  LSTAT  MEDV  \n",
              "0     15.3  396.90   4.98  24.0  \n",
              "1     17.8  396.90   9.14  21.6  \n",
              "2     17.8  392.83   4.03  34.7  \n",
              "3     18.7  394.63   2.94  33.4  \n",
              "4     18.7  396.90   5.33  36.2  "
            ]
          },
          "execution_count": 81,
          "metadata": {},
          "output_type": "execute_result"
        }
      ],
      "source": [
        "data.head()"
      ]
    },
    {
      "cell_type": "code",
      "execution_count": null,
      "metadata": {
        "id": "3z6hi7P-s50M"
      },
      "outputs": [],
      "source": [
        "def normal(x:list):\n",
        "    maxi = max(x)\n",
        "    mini = min(x)\n",
        "    avg = np.mean(x)\n",
        "    new = [(i-avg)/(maxi-mini) for i in x ]\n",
        "\n",
        "    return new"
      ]
    },
    {
      "cell_type": "code",
      "execution_count": null,
      "metadata": {
        "id": "B3Ub2naNs50M",
        "outputId": "112c9877-7bf1-4f1d-d0d4-7c3f1af13b22",
        "colab": {
          "base_uri": "https://localhost:8080/",
          "height": 270
        }
      },
      "outputs": [
        {
          "output_type": "execute_result",
          "data": {
            "text/plain": [
              "       crim        zn     indus     chas       nox        rm       age  \\\n",
              "0 -0.040544  0.066364 -0.323562 -0.06917 -0.034352  0.055636 -0.034757   \n",
              "1 -0.040308 -0.113636 -0.149075 -0.06917 -0.176327  0.026129  0.106335   \n",
              "2 -0.040308 -0.113636 -0.149075 -0.06917 -0.176327  0.172517 -0.076981   \n",
              "3 -0.040251 -0.113636 -0.328328 -0.06917 -0.198961  0.136686 -0.234551   \n",
              "4 -0.039839 -0.113636 -0.328328 -0.06917 -0.198961  0.165236 -0.148042   \n",
              "\n",
              "        dis       rad       tax   ptratio         b     lstat      medv  \n",
              "0  0.026822 -0.371713 -0.214193 -0.335695  0.101432 -0.211729  0.032604  \n",
              "1  0.106581 -0.328235 -0.317246 -0.069738  0.101432 -0.096939 -0.020729  \n",
              "2  0.106581 -0.328235 -0.317246 -0.069738  0.091169 -0.237943  0.270382  \n",
              "3  0.206163 -0.284757 -0.355414  0.026007  0.095708 -0.268021  0.241493  \n",
              "4  0.206163 -0.284757 -0.355414  0.026007  0.101432 -0.202071  0.303715  "
            ],
            "text/html": [
              "\n",
              "  <div id=\"df-14d33401-8aae-4f54-9d28-03951658e200\">\n",
              "    <div class=\"colab-df-container\">\n",
              "      <div>\n",
              "<style scoped>\n",
              "    .dataframe tbody tr th:only-of-type {\n",
              "        vertical-align: middle;\n",
              "    }\n",
              "\n",
              "    .dataframe tbody tr th {\n",
              "        vertical-align: top;\n",
              "    }\n",
              "\n",
              "    .dataframe thead th {\n",
              "        text-align: right;\n",
              "    }\n",
              "</style>\n",
              "<table border=\"1\" class=\"dataframe\">\n",
              "  <thead>\n",
              "    <tr style=\"text-align: right;\">\n",
              "      <th></th>\n",
              "      <th>crim</th>\n",
              "      <th>zn</th>\n",
              "      <th>indus</th>\n",
              "      <th>chas</th>\n",
              "      <th>nox</th>\n",
              "      <th>rm</th>\n",
              "      <th>age</th>\n",
              "      <th>dis</th>\n",
              "      <th>rad</th>\n",
              "      <th>tax</th>\n",
              "      <th>ptratio</th>\n",
              "      <th>b</th>\n",
              "      <th>lstat</th>\n",
              "      <th>medv</th>\n",
              "    </tr>\n",
              "  </thead>\n",
              "  <tbody>\n",
              "    <tr>\n",
              "      <th>0</th>\n",
              "      <td>-0.040544</td>\n",
              "      <td>0.066364</td>\n",
              "      <td>-0.323562</td>\n",
              "      <td>-0.06917</td>\n",
              "      <td>-0.034352</td>\n",
              "      <td>0.055636</td>\n",
              "      <td>-0.034757</td>\n",
              "      <td>0.026822</td>\n",
              "      <td>-0.371713</td>\n",
              "      <td>-0.214193</td>\n",
              "      <td>-0.335695</td>\n",
              "      <td>0.101432</td>\n",
              "      <td>-0.211729</td>\n",
              "      <td>0.032604</td>\n",
              "    </tr>\n",
              "    <tr>\n",
              "      <th>1</th>\n",
              "      <td>-0.040308</td>\n",
              "      <td>-0.113636</td>\n",
              "      <td>-0.149075</td>\n",
              "      <td>-0.06917</td>\n",
              "      <td>-0.176327</td>\n",
              "      <td>0.026129</td>\n",
              "      <td>0.106335</td>\n",
              "      <td>0.106581</td>\n",
              "      <td>-0.328235</td>\n",
              "      <td>-0.317246</td>\n",
              "      <td>-0.069738</td>\n",
              "      <td>0.101432</td>\n",
              "      <td>-0.096939</td>\n",
              "      <td>-0.020729</td>\n",
              "    </tr>\n",
              "    <tr>\n",
              "      <th>2</th>\n",
              "      <td>-0.040308</td>\n",
              "      <td>-0.113636</td>\n",
              "      <td>-0.149075</td>\n",
              "      <td>-0.06917</td>\n",
              "      <td>-0.176327</td>\n",
              "      <td>0.172517</td>\n",
              "      <td>-0.076981</td>\n",
              "      <td>0.106581</td>\n",
              "      <td>-0.328235</td>\n",
              "      <td>-0.317246</td>\n",
              "      <td>-0.069738</td>\n",
              "      <td>0.091169</td>\n",
              "      <td>-0.237943</td>\n",
              "      <td>0.270382</td>\n",
              "    </tr>\n",
              "    <tr>\n",
              "      <th>3</th>\n",
              "      <td>-0.040251</td>\n",
              "      <td>-0.113636</td>\n",
              "      <td>-0.328328</td>\n",
              "      <td>-0.06917</td>\n",
              "      <td>-0.198961</td>\n",
              "      <td>0.136686</td>\n",
              "      <td>-0.234551</td>\n",
              "      <td>0.206163</td>\n",
              "      <td>-0.284757</td>\n",
              "      <td>-0.355414</td>\n",
              "      <td>0.026007</td>\n",
              "      <td>0.095708</td>\n",
              "      <td>-0.268021</td>\n",
              "      <td>0.241493</td>\n",
              "    </tr>\n",
              "    <tr>\n",
              "      <th>4</th>\n",
              "      <td>-0.039839</td>\n",
              "      <td>-0.113636</td>\n",
              "      <td>-0.328328</td>\n",
              "      <td>-0.06917</td>\n",
              "      <td>-0.198961</td>\n",
              "      <td>0.165236</td>\n",
              "      <td>-0.148042</td>\n",
              "      <td>0.206163</td>\n",
              "      <td>-0.284757</td>\n",
              "      <td>-0.355414</td>\n",
              "      <td>0.026007</td>\n",
              "      <td>0.101432</td>\n",
              "      <td>-0.202071</td>\n",
              "      <td>0.303715</td>\n",
              "    </tr>\n",
              "  </tbody>\n",
              "</table>\n",
              "</div>\n",
              "      <button class=\"colab-df-convert\" onclick=\"convertToInteractive('df-14d33401-8aae-4f54-9d28-03951658e200')\"\n",
              "              title=\"Convert this dataframe to an interactive table.\"\n",
              "              style=\"display:none;\">\n",
              "        \n",
              "  <svg xmlns=\"http://www.w3.org/2000/svg\" height=\"24px\"viewBox=\"0 0 24 24\"\n",
              "       width=\"24px\">\n",
              "    <path d=\"M0 0h24v24H0V0z\" fill=\"none\"/>\n",
              "    <path d=\"M18.56 5.44l.94 2.06.94-2.06 2.06-.94-2.06-.94-.94-2.06-.94 2.06-2.06.94zm-11 1L8.5 8.5l.94-2.06 2.06-.94-2.06-.94L8.5 2.5l-.94 2.06-2.06.94zm10 10l.94 2.06.94-2.06 2.06-.94-2.06-.94-.94-2.06-.94 2.06-2.06.94z\"/><path d=\"M17.41 7.96l-1.37-1.37c-.4-.4-.92-.59-1.43-.59-.52 0-1.04.2-1.43.59L10.3 9.45l-7.72 7.72c-.78.78-.78 2.05 0 2.83L4 21.41c.39.39.9.59 1.41.59.51 0 1.02-.2 1.41-.59l7.78-7.78 2.81-2.81c.8-.78.8-2.07 0-2.86zM5.41 20L4 18.59l7.72-7.72 1.47 1.35L5.41 20z\"/>\n",
              "  </svg>\n",
              "      </button>\n",
              "      \n",
              "  <style>\n",
              "    .colab-df-container {\n",
              "      display:flex;\n",
              "      flex-wrap:wrap;\n",
              "      gap: 12px;\n",
              "    }\n",
              "\n",
              "    .colab-df-convert {\n",
              "      background-color: #E8F0FE;\n",
              "      border: none;\n",
              "      border-radius: 50%;\n",
              "      cursor: pointer;\n",
              "      display: none;\n",
              "      fill: #1967D2;\n",
              "      height: 32px;\n",
              "      padding: 0 0 0 0;\n",
              "      width: 32px;\n",
              "    }\n",
              "\n",
              "    .colab-df-convert:hover {\n",
              "      background-color: #E2EBFA;\n",
              "      box-shadow: 0px 1px 2px rgba(60, 64, 67, 0.3), 0px 1px 3px 1px rgba(60, 64, 67, 0.15);\n",
              "      fill: #174EA6;\n",
              "    }\n",
              "\n",
              "    [theme=dark] .colab-df-convert {\n",
              "      background-color: #3B4455;\n",
              "      fill: #D2E3FC;\n",
              "    }\n",
              "\n",
              "    [theme=dark] .colab-df-convert:hover {\n",
              "      background-color: #434B5C;\n",
              "      box-shadow: 0px 1px 3px 1px rgba(0, 0, 0, 0.15);\n",
              "      filter: drop-shadow(0px 1px 2px rgba(0, 0, 0, 0.3));\n",
              "      fill: #FFFFFF;\n",
              "    }\n",
              "  </style>\n",
              "\n",
              "      <script>\n",
              "        const buttonEl =\n",
              "          document.querySelector('#df-14d33401-8aae-4f54-9d28-03951658e200 button.colab-df-convert');\n",
              "        buttonEl.style.display =\n",
              "          google.colab.kernel.accessAllowed ? 'block' : 'none';\n",
              "\n",
              "        async function convertToInteractive(key) {\n",
              "          const element = document.querySelector('#df-14d33401-8aae-4f54-9d28-03951658e200');\n",
              "          const dataTable =\n",
              "            await google.colab.kernel.invokeFunction('convertToInteractive',\n",
              "                                                     [key], {});\n",
              "          if (!dataTable) return;\n",
              "\n",
              "          const docLinkHtml = 'Like what you see? Visit the ' +\n",
              "            '<a target=\"_blank\" href=https://colab.research.google.com/notebooks/data_table.ipynb>data table notebook</a>'\n",
              "            + ' to learn more about interactive tables.';\n",
              "          element.innerHTML = '';\n",
              "          dataTable['output_type'] = 'display_data';\n",
              "          await google.colab.output.renderOutput(dataTable, element);\n",
              "          const docLink = document.createElement('div');\n",
              "          docLink.innerHTML = docLinkHtml;\n",
              "          element.appendChild(docLink);\n",
              "        }\n",
              "      </script>\n",
              "    </div>\n",
              "  </div>\n",
              "  "
            ]
          },
          "metadata": {},
          "execution_count": 15
        }
      ],
      "source": [
        "df = data.copy()\n",
        "\n",
        "df = df.apply(normal, axis=0)\n",
        "\n",
        "df.head()"
      ]
    },
    {
      "cell_type": "code",
      "execution_count": null,
      "metadata": {
        "id": "G-MNrszRs50M",
        "outputId": "f6c50f87-8736-4daa-e703-89f881286d08",
        "colab": {
          "base_uri": "https://localhost:8080/",
          "height": 250
        }
      },
      "outputs": [
        {
          "output_type": "execute_result",
          "data": {
            "text/plain": [
              "   X0      crim        zn     indus     chas       nox        rm       age  \\\n",
              "0   1 -0.040544  0.066364 -0.323562 -0.06917 -0.034352  0.055636 -0.034757   \n",
              "1   1 -0.040308 -0.113636 -0.149075 -0.06917 -0.176327  0.026129  0.106335   \n",
              "2   1 -0.040308 -0.113636 -0.149075 -0.06917 -0.176327  0.172517 -0.076981   \n",
              "3   1 -0.040251 -0.113636 -0.328328 -0.06917 -0.198961  0.136686 -0.234551   \n",
              "4   1 -0.039839 -0.113636 -0.328328 -0.06917 -0.198961  0.165236 -0.148042   \n",
              "\n",
              "        dis       rad       tax   ptratio         b     lstat  \n",
              "0  0.026822 -0.371713 -0.214193 -0.335695  0.101432 -0.211729  \n",
              "1  0.106581 -0.328235 -0.317246 -0.069738  0.101432 -0.096939  \n",
              "2  0.106581 -0.328235 -0.317246 -0.069738  0.091169 -0.237943  \n",
              "3  0.206163 -0.284757 -0.355414  0.026007  0.095708 -0.268021  \n",
              "4  0.206163 -0.284757 -0.355414  0.026007  0.101432 -0.202071  "
            ],
            "text/html": [
              "\n",
              "  <div id=\"df-f646e59b-edbf-4873-88b0-dc7162f74385\">\n",
              "    <div class=\"colab-df-container\">\n",
              "      <div>\n",
              "<style scoped>\n",
              "    .dataframe tbody tr th:only-of-type {\n",
              "        vertical-align: middle;\n",
              "    }\n",
              "\n",
              "    .dataframe tbody tr th {\n",
              "        vertical-align: top;\n",
              "    }\n",
              "\n",
              "    .dataframe thead th {\n",
              "        text-align: right;\n",
              "    }\n",
              "</style>\n",
              "<table border=\"1\" class=\"dataframe\">\n",
              "  <thead>\n",
              "    <tr style=\"text-align: right;\">\n",
              "      <th></th>\n",
              "      <th>X0</th>\n",
              "      <th>crim</th>\n",
              "      <th>zn</th>\n",
              "      <th>indus</th>\n",
              "      <th>chas</th>\n",
              "      <th>nox</th>\n",
              "      <th>rm</th>\n",
              "      <th>age</th>\n",
              "      <th>dis</th>\n",
              "      <th>rad</th>\n",
              "      <th>tax</th>\n",
              "      <th>ptratio</th>\n",
              "      <th>b</th>\n",
              "      <th>lstat</th>\n",
              "    </tr>\n",
              "  </thead>\n",
              "  <tbody>\n",
              "    <tr>\n",
              "      <th>0</th>\n",
              "      <td>1</td>\n",
              "      <td>-0.040544</td>\n",
              "      <td>0.066364</td>\n",
              "      <td>-0.323562</td>\n",
              "      <td>-0.06917</td>\n",
              "      <td>-0.034352</td>\n",
              "      <td>0.055636</td>\n",
              "      <td>-0.034757</td>\n",
              "      <td>0.026822</td>\n",
              "      <td>-0.371713</td>\n",
              "      <td>-0.214193</td>\n",
              "      <td>-0.335695</td>\n",
              "      <td>0.101432</td>\n",
              "      <td>-0.211729</td>\n",
              "    </tr>\n",
              "    <tr>\n",
              "      <th>1</th>\n",
              "      <td>1</td>\n",
              "      <td>-0.040308</td>\n",
              "      <td>-0.113636</td>\n",
              "      <td>-0.149075</td>\n",
              "      <td>-0.06917</td>\n",
              "      <td>-0.176327</td>\n",
              "      <td>0.026129</td>\n",
              "      <td>0.106335</td>\n",
              "      <td>0.106581</td>\n",
              "      <td>-0.328235</td>\n",
              "      <td>-0.317246</td>\n",
              "      <td>-0.069738</td>\n",
              "      <td>0.101432</td>\n",
              "      <td>-0.096939</td>\n",
              "    </tr>\n",
              "    <tr>\n",
              "      <th>2</th>\n",
              "      <td>1</td>\n",
              "      <td>-0.040308</td>\n",
              "      <td>-0.113636</td>\n",
              "      <td>-0.149075</td>\n",
              "      <td>-0.06917</td>\n",
              "      <td>-0.176327</td>\n",
              "      <td>0.172517</td>\n",
              "      <td>-0.076981</td>\n",
              "      <td>0.106581</td>\n",
              "      <td>-0.328235</td>\n",
              "      <td>-0.317246</td>\n",
              "      <td>-0.069738</td>\n",
              "      <td>0.091169</td>\n",
              "      <td>-0.237943</td>\n",
              "    </tr>\n",
              "    <tr>\n",
              "      <th>3</th>\n",
              "      <td>1</td>\n",
              "      <td>-0.040251</td>\n",
              "      <td>-0.113636</td>\n",
              "      <td>-0.328328</td>\n",
              "      <td>-0.06917</td>\n",
              "      <td>-0.198961</td>\n",
              "      <td>0.136686</td>\n",
              "      <td>-0.234551</td>\n",
              "      <td>0.206163</td>\n",
              "      <td>-0.284757</td>\n",
              "      <td>-0.355414</td>\n",
              "      <td>0.026007</td>\n",
              "      <td>0.095708</td>\n",
              "      <td>-0.268021</td>\n",
              "    </tr>\n",
              "    <tr>\n",
              "      <th>4</th>\n",
              "      <td>1</td>\n",
              "      <td>-0.039839</td>\n",
              "      <td>-0.113636</td>\n",
              "      <td>-0.328328</td>\n",
              "      <td>-0.06917</td>\n",
              "      <td>-0.198961</td>\n",
              "      <td>0.165236</td>\n",
              "      <td>-0.148042</td>\n",
              "      <td>0.206163</td>\n",
              "      <td>-0.284757</td>\n",
              "      <td>-0.355414</td>\n",
              "      <td>0.026007</td>\n",
              "      <td>0.101432</td>\n",
              "      <td>-0.202071</td>\n",
              "    </tr>\n",
              "  </tbody>\n",
              "</table>\n",
              "</div>\n",
              "      <button class=\"colab-df-convert\" onclick=\"convertToInteractive('df-f646e59b-edbf-4873-88b0-dc7162f74385')\"\n",
              "              title=\"Convert this dataframe to an interactive table.\"\n",
              "              style=\"display:none;\">\n",
              "        \n",
              "  <svg xmlns=\"http://www.w3.org/2000/svg\" height=\"24px\"viewBox=\"0 0 24 24\"\n",
              "       width=\"24px\">\n",
              "    <path d=\"M0 0h24v24H0V0z\" fill=\"none\"/>\n",
              "    <path d=\"M18.56 5.44l.94 2.06.94-2.06 2.06-.94-2.06-.94-.94-2.06-.94 2.06-2.06.94zm-11 1L8.5 8.5l.94-2.06 2.06-.94-2.06-.94L8.5 2.5l-.94 2.06-2.06.94zm10 10l.94 2.06.94-2.06 2.06-.94-2.06-.94-.94-2.06-.94 2.06-2.06.94z\"/><path d=\"M17.41 7.96l-1.37-1.37c-.4-.4-.92-.59-1.43-.59-.52 0-1.04.2-1.43.59L10.3 9.45l-7.72 7.72c-.78.78-.78 2.05 0 2.83L4 21.41c.39.39.9.59 1.41.59.51 0 1.02-.2 1.41-.59l7.78-7.78 2.81-2.81c.8-.78.8-2.07 0-2.86zM5.41 20L4 18.59l7.72-7.72 1.47 1.35L5.41 20z\"/>\n",
              "  </svg>\n",
              "      </button>\n",
              "      \n",
              "  <style>\n",
              "    .colab-df-container {\n",
              "      display:flex;\n",
              "      flex-wrap:wrap;\n",
              "      gap: 12px;\n",
              "    }\n",
              "\n",
              "    .colab-df-convert {\n",
              "      background-color: #E8F0FE;\n",
              "      border: none;\n",
              "      border-radius: 50%;\n",
              "      cursor: pointer;\n",
              "      display: none;\n",
              "      fill: #1967D2;\n",
              "      height: 32px;\n",
              "      padding: 0 0 0 0;\n",
              "      width: 32px;\n",
              "    }\n",
              "\n",
              "    .colab-df-convert:hover {\n",
              "      background-color: #E2EBFA;\n",
              "      box-shadow: 0px 1px 2px rgba(60, 64, 67, 0.3), 0px 1px 3px 1px rgba(60, 64, 67, 0.15);\n",
              "      fill: #174EA6;\n",
              "    }\n",
              "\n",
              "    [theme=dark] .colab-df-convert {\n",
              "      background-color: #3B4455;\n",
              "      fill: #D2E3FC;\n",
              "    }\n",
              "\n",
              "    [theme=dark] .colab-df-convert:hover {\n",
              "      background-color: #434B5C;\n",
              "      box-shadow: 0px 1px 3px 1px rgba(0, 0, 0, 0.15);\n",
              "      filter: drop-shadow(0px 1px 2px rgba(0, 0, 0, 0.3));\n",
              "      fill: #FFFFFF;\n",
              "    }\n",
              "  </style>\n",
              "\n",
              "      <script>\n",
              "        const buttonEl =\n",
              "          document.querySelector('#df-f646e59b-edbf-4873-88b0-dc7162f74385 button.colab-df-convert');\n",
              "        buttonEl.style.display =\n",
              "          google.colab.kernel.accessAllowed ? 'block' : 'none';\n",
              "\n",
              "        async function convertToInteractive(key) {\n",
              "          const element = document.querySelector('#df-f646e59b-edbf-4873-88b0-dc7162f74385');\n",
              "          const dataTable =\n",
              "            await google.colab.kernel.invokeFunction('convertToInteractive',\n",
              "                                                     [key], {});\n",
              "          if (!dataTable) return;\n",
              "\n",
              "          const docLinkHtml = 'Like what you see? Visit the ' +\n",
              "            '<a target=\"_blank\" href=https://colab.research.google.com/notebooks/data_table.ipynb>data table notebook</a>'\n",
              "            + ' to learn more about interactive tables.';\n",
              "          element.innerHTML = '';\n",
              "          dataTable['output_type'] = 'display_data';\n",
              "          await google.colab.output.renderOutput(dataTable, element);\n",
              "          const docLink = document.createElement('div');\n",
              "          docLink.innerHTML = docLinkHtml;\n",
              "          element.appendChild(docLink);\n",
              "        }\n",
              "      </script>\n",
              "    </div>\n",
              "  </div>\n",
              "  "
            ]
          },
          "metadata": {},
          "execution_count": 17
        }
      ],
      "source": [
        "Xd = df.drop(columns=['medv'])\n",
        "Xd.insert(0, 'X0', 1)\n",
        "Xd.head()"
      ]
    },
    {
      "cell_type": "code",
      "execution_count": null,
      "metadata": {
        "id": "6-uKqm_2s50N",
        "outputId": "f43f0501-9915-4633-a238-be3040cc9e2f",
        "colab": {
          "base_uri": "https://localhost:8080/"
        }
      },
      "outputs": [
        {
          "output_type": "execute_result",
          "data": {
            "text/plain": [
              "X0         1.000000\n",
              "crim      -0.040544\n",
              "zn         0.066364\n",
              "indus     -0.323562\n",
              "chas      -0.069170\n",
              "nox       -0.034352\n",
              "rm         0.055636\n",
              "age       -0.034757\n",
              "dis        0.026822\n",
              "rad       -0.371713\n",
              "tax       -0.214193\n",
              "ptratio   -0.335695\n",
              "b          0.101432\n",
              "lstat     -0.211729\n",
              "Name: 0, dtype: float64"
            ]
          },
          "metadata": {},
          "execution_count": 18
        }
      ],
      "source": [
        "Xd.iloc[0,:]"
      ]
    },
    {
      "cell_type": "code",
      "execution_count": null,
      "metadata": {
        "id": "cQ9ESarss50N"
      },
      "outputs": [],
      "source": [
        "# numpy array format\n",
        "y = df.medv.values\n",
        "X = Xd.values"
      ]
    },
    {
      "cell_type": "code",
      "execution_count": null,
      "metadata": {
        "id": "_f45kL-js50N",
        "outputId": "83394230-0d6d-4528-ea6e-28540d50b44b",
        "colab": {
          "base_uri": "https://localhost:8080/"
        }
      },
      "outputs": [
        {
          "output_type": "execute_result",
          "data": {
            "text/plain": [
              "506"
            ]
          },
          "metadata": {},
          "execution_count": 20
        }
      ],
      "source": [
        "# sample size\n",
        "m = len(df.index)\n",
        "m"
      ]
    },
    {
      "cell_type": "code",
      "execution_count": null,
      "metadata": {
        "id": "_zWfUT8Hs50O",
        "outputId": "59c2bdea-15e9-4ee9-9fd5-0923738cc6e2",
        "colab": {
          "base_uri": "https://localhost:8080/"
        }
      },
      "outputs": [
        {
          "output_type": "execute_result",
          "data": {
            "text/plain": [
              "14"
            ]
          },
          "metadata": {},
          "execution_count": 21
        }
      ],
      "source": [
        "# number of features\n",
        "n = X.shape[1]\n",
        "n"
      ]
    },
    {
      "cell_type": "code",
      "execution_count": null,
      "metadata": {
        "id": "ou09kzXns50O",
        "outputId": "a69fe40e-86d1-46f9-c3d1-1477e44ddf11",
        "colab": {
          "base_uri": "https://localhost:8080/"
        }
      },
      "outputs": [
        {
          "output_type": "execute_result",
          "data": {
            "text/plain": [
              "array([1., 1., 1., 1., 1., 1., 1., 1., 1., 1., 1., 1., 1., 1.])"
            ]
          },
          "metadata": {},
          "execution_count": 22
        }
      ],
      "source": [
        "# Initialize theta\n",
        "theta = np.ones(n)\n",
        "\n",
        "theta"
      ]
    },
    {
      "cell_type": "markdown",
      "metadata": {
        "id": "r0NoKU1ys50O"
      },
      "source": [
        "# No Vectorization"
      ]
    },
    {
      "cell_type": "markdown",
      "metadata": {
        "id": "8ejPSjQps50P"
      },
      "source": [
        "### Hypothesis"
      ]
    },
    {
      "cell_type": "code",
      "execution_count": null,
      "metadata": {
        "id": "Wf4DABsOs50P",
        "outputId": "f3ce9333-d8e1-453e-dd84-1761638bb89f",
        "colab": {
          "base_uri": "https://localhost:8080/"
        }
      },
      "outputs": [
        {
          "output_type": "execute_result",
          "data": {
            "text/plain": [
              "array([ 1.        , -0.0405441 ,  0.06636364, -0.32356227, -0.06916996,\n",
              "       -0.03435197,  0.05563625, -0.03475696,  0.02682186, -0.37171335,\n",
              "       -0.21419304, -0.33569506,  0.10143217, -0.21172912])"
            ]
          },
          "metadata": {},
          "execution_count": 23
        }
      ],
      "source": [
        "# all the elements in the first row\n",
        "X[0,:]"
      ]
    },
    {
      "cell_type": "code",
      "execution_count": null,
      "metadata": {
        "id": "yLWm1TUus50P",
        "outputId": "7a707e8f-7eb0-4f73-c8d6-85cc772d8638",
        "colab": {
          "base_uri": "https://localhost:8080/"
        }
      },
      "outputs": [
        {
          "output_type": "execute_result",
          "data": {
            "text/plain": [
              "-0.38546192363965703"
            ]
          },
          "metadata": {},
          "execution_count": 24
        }
      ],
      "source": [
        "# hypothesis for the first sample\n",
        "hypo = 0\n",
        "for j in range(n):\n",
        "    hypo += theta[j]*X[0,j]\n",
        "\n",
        "hypo"
      ]
    },
    {
      "cell_type": "code",
      "execution_count": null,
      "metadata": {
        "id": "uhJblAH2s50P",
        "outputId": "8986051e-81e9-47dd-f70f-eb41251c2c54",
        "colab": {
          "base_uri": "https://localhost:8080/"
        }
      },
      "outputs": [
        {
          "output_type": "stream",
          "name": "stdout",
          "text": [
            "CPU times: user 6.71 ms, sys: 0 ns, total: 6.71 ms\n",
            "Wall time: 6.74 ms\n"
          ]
        }
      ],
      "source": [
        "%%time\n",
        "# hypothesis for all the samples\n",
        "all_hypo = []\n",
        "for i in range(m):\n",
        "    hypo_i = 0\n",
        "    for j in range(n):\n",
        "        hypo_i += theta[j]*X[i,j]\n",
        "    all_hypo.append(hypo_i)"
      ]
    },
    {
      "cell_type": "code",
      "execution_count": null,
      "metadata": {
        "id": "tFUKmjo_s50P",
        "outputId": "1179bb24-fe6f-49ce-8751-921b56b51a3a",
        "colab": {
          "base_uri": "https://localhost:8080/"
        }
      },
      "outputs": [
        {
          "output_type": "execute_result",
          "data": {
            "text/plain": [
              "[-0.38546192363965703,\n",
              " -0.02019901597141227,\n",
              " -0.2083943741854957,\n",
              " -0.4285241987963709,\n",
              " -0.241380472959373,\n",
              " -0.3431809297992652,\n",
              " 0.16992431241733746,\n",
              " 0.7291974106276355,\n",
              " 0.9499840269978392,\n",
              " 0.5683291899121925,\n",
              " 0.8116982482768604,\n",
              " 0.4245831871437753,\n",
              " -0.07014343440672105,\n",
              " 0.404763313554777,\n",
              " 0.6570915533222486,\n",
              " 0.31168974198112454,\n",
              " -0.018553662065731946,\n",
              " 0.7296967536466334,\n",
              " -0.2075777689447007,\n",
              " 0.4280941138176673,\n",
              " 0.9310965152295156,\n",
              " 0.7719712662650042,\n",
              " 0.978642303792504,\n",
              " 1.0351548715696302,\n",
              " 0.9213493682217351,\n",
              " 0.5551440263793064,\n",
              " 0.800629342138858,\n",
              " 0.7028071672881875,\n",
              " 0.9264217512284009,\n",
              " 0.8284953174750802,\n",
              " 0.9577523262708216,\n",
              " 0.8625041449901355,\n",
              " 0.6786721200575898,\n",
              " 0.8036142426152406,\n",
              " 0.6779379934598029,\n",
              " 0.016322746970696675,\n",
              " -0.07039129990623735,\n",
              " -0.24729837783792197,\n",
              " -0.3195044474747513,\n",
              " -0.04128298547670192,\n",
              " -0.0854030604688017,\n",
              " -0.8261143209659969,\n",
              " -0.8813853804187827,\n",
              " -0.8012249678206859,\n",
              " -0.43840160565383773,\n",
              " -0.5951338892892231,\n",
              " -0.4714459824447819,\n",
              " 0.2847383211037593,\n",
              " 0.623351573755851,\n",
              " -0.06442998608617165,\n",
              " -0.08728485081311818,\n",
              " 0.0045600737026520455,\n",
              " -0.45808842198516314,\n",
              " -0.4664155849876532,\n",
              " 1.2690983445835264,\n",
              " 0.4287761019640761,\n",
              " 0.3972079531284996,\n",
              " 0.3517043396801024,\n",
              " 0.28597335879649594,\n",
              " 0.42953201018679843,\n",
              " 0.7206954033440027,\n",
              " 0.9998348870241218,\n",
              " 0.7011041406107203,\n",
              " 0.6504296572949808,\n",
              " 0.19502194637715883,\n",
              " -0.042581118863688594,\n",
              " 0.1517993859850585,\n",
              " -0.24186772748890661,\n",
              " 0.002620899646116318,\n",
              " -0.09949257586025616,\n",
              " -0.4577501312268107,\n",
              " -0.36200030127595106,\n",
              " -0.5278074050649859,\n",
              " -0.4875364830562508,\n",
              " -0.2647463287049077,\n",
              " 0.1925333183196432,\n",
              " 0.5135955684362055,\n",
              " 0.1813380576864747,\n",
              " 0.4196757675917792,\n",
              " 0.0637224083247994,\n",
              " -0.12622340669878682,\n",
              " 0.28319648820293597,\n",
              " -0.1816367583382234,\n",
              " -0.05217117901065507,\n",
              " -0.3563595536415606,\n",
              " -0.35462345545524526,\n",
              " -0.40279026269240803,\n",
              " -0.44764691027745973,\n",
              " -0.11192652362039386,\n",
              " -0.33435403089514804,\n",
              " -0.3836377714101842,\n",
              " -0.31908790853034885,\n",
              " 0.31811430726539347,\n",
              " -0.03115272918249723,\n",
              " 0.5924126909784505,\n",
              " -0.6144890169325925,\n",
              " -0.3667964044546462,\n",
              " -0.1195754562009975,\n",
              " -0.5965589975401366,\n",
              " -0.32967842781053813,\n",
              " 0.7441136890670017,\n",
              " 0.6264047232297065,\n",
              " -0.04927483403639666,\n",
              " 0.8134706333828998,\n",
              " 0.783360963676371,\n",
              " 0.8808406786995322,\n",
              " 0.9029483149820443,\n",
              " 0.7349725533337598,\n",
              " 0.9210313013179479,\n",
              " 0.9054487138204359,\n",
              " 0.4746882887263534,\n",
              " 0.6861783333093442,\n",
              " 0.7849931166506191,\n",
              " 0.8930438506689721,\n",
              " 0.5775358770673615,\n",
              " 0.6113830843923197,\n",
              " 0.5404147120499239,\n",
              " 0.5715610775227374,\n",
              " 0.4193976211106599,\n",
              " 0.4215469382931122,\n",
              " 0.6051232132953537,\n",
              " 0.7419390021802917,\n",
              " 0.9165720967650656,\n",
              " 1.1131486977262581,\n",
              " 0.9170538472815661,\n",
              " 0.7987066974942387,\n",
              " 1.0610714160224686,\n",
              " 1.6229935112395162,\n",
              " 1.7585911486440153,\n",
              " 1.6671017338082135,\n",
              " 1.7111080256735065,\n",
              " 1.6922193426518384,\n",
              " 1.6418982791687906,\n",
              " 1.6360807289468542,\n",
              " 1.3958941664453661,\n",
              " 1.8014451328953132,\n",
              " 1.6189606807016645,\n",
              " 1.7333870206802597,\n",
              " 1.7798701959654757,\n",
              " 1.7697713596575122,\n",
              " 1.8569229863953294,\n",
              " 2.0059540882771136,\n",
              " 2.5890609227231773,\n",
              " 1.6074061867049312,\n",
              " 1.5348823269617027,\n",
              " 1.1888790483712273,\n",
              " 0.782187651197845,\n",
              " 1.517025246052014,\n",
              " 1.4321720580934874,\n",
              " 1.3238957051604854,\n",
              " 1.2955024694039916,\n",
              " 1.0802328387891091,\n",
              " 1.851301717294625,\n",
              " 1.0018549721777654,\n",
              " 2.1902551865988453,\n",
              " 1.4898388610420599,\n",
              " 0.4580372926034457,\n",
              " 0.6391851645958044,\n",
              " 0.5150670676613486,\n",
              " 1.201936375891286,\n",
              " 1.4136603786792556,\n",
              " 0.6358571330582485,\n",
              " 1.826071059361003,\n",
              " 1.9347769689724434,\n",
              " 0.7082544049886998,\n",
              " 0.321785482611674,\n",
              " 0.8301678071968981,\n",
              " 0.1697197428337576,\n",
              " 0.5509436447175408,\n",
              " 0.663187376525595,\n",
              " 0.5475566093682581,\n",
              " 0.6599535369410577,\n",
              " -0.06572331846420446,\n",
              " -0.10472327611178867,\n",
              " -0.3542419251311778,\n",
              " -0.6749552520007409,\n",
              " -0.4544380759763841,\n",
              " -0.2492886087545989,\n",
              " -0.16453521395432824,\n",
              " -0.6113592157092755,\n",
              " -0.14626449975538114,\n",
              " -0.6316099816035895,\n",
              " -0.25411623590505505,\n",
              " -0.2883772980096072,\n",
              " -0.3050880860140344,\n",
              " -0.4225985208493329,\n",
              " -0.49113811797523554,\n",
              " -0.11978675654545126,\n",
              " -0.30170067882001583,\n",
              " -0.022369714158563425,\n",
              " -0.12882350951391208,\n",
              " -0.05488831779483094,\n",
              " -0.06517346339438002,\n",
              " -0.5919693823179437,\n",
              " -0.5979208348561477,\n",
              " -0.12873944985369706,\n",
              " -0.16651926357644886,\n",
              " -0.15758156796173936,\n",
              " -0.06754612654016552,\n",
              " 0.4215364012656585,\n",
              " 0.4028143124804785,\n",
              " -0.021798975937290882,\n",
              " -0.09341890528683186,\n",
              " 0.04292661329779282,\n",
              " 0.03276528939044443,\n",
              " -0.33955826500559383,\n",
              " 0.09073731885592543,\n",
              " 0.3769008949281536,\n",
              " 1.1645856966899621,\n",
              " 1.689996969053266,\n",
              " 1.5541226776209665,\n",
              " 1.5846915078100454,\n",
              " 1.0703922868586357,\n",
              " -0.2128663811080717,\n",
              " -0.19640261798984043,\n",
              " -0.12298184384515165,\n",
              " 1.04665384322904,\n",
              " 0.4137327239193444,\n",
              " 1.5605129893584593,\n",
              " 1.4573820712096628,\n",
              " 1.3837604333591622,\n",
              " 1.6124540610558122,\n",
              " 1.3018099708659372,\n",
              " 0.23574840888152207,\n",
              " 0.35653223953475416,\n",
              " 0.5010923781097771,\n",
              " 0.405651675594675,\n",
              " 0.2205287253127089,\n",
              " -0.3674716193606934,\n",
              " -0.5351055957494593,\n",
              " 0.077154577488215,\n",
              " 0.2589679743880111,\n",
              " 0.36966703669803963,\n",
              " 0.3261452326341322,\n",
              " 1.0617094911055376,\n",
              " 0.006089421728633873,\n",
              " 1.3047717303041884,\n",
              " 0.26486731569283745,\n",
              " -0.34560735989380176,\n",
              " -0.038575873385166645,\n",
              " 0.28481110272910026,\n",
              " 0.27893011934790557,\n",
              " 0.17953558930202285,\n",
              " -0.4393989514130208,\n",
              " 0.7223851340157751,\n",
              " 0.8660549816647471,\n",
              " 0.355733116379795,\n",
              " 0.8248784816442554,\n",
              " 0.5123758692902991,\n",
              " 0.20814996382213521,\n",
              " 0.06608691314078777,\n",
              " -0.09687786428702116,\n",
              " 0.13785724600717586,\n",
              " 0.43456495365908343,\n",
              " 0.20552045512906097,\n",
              " 0.10779771406061558,\n",
              " 0.11786413891644604,\n",
              " 0.20360620828317944,\n",
              " 0.14243258822076982,\n",
              " 0.05606145242406424,\n",
              " 0.02212818678963782,\n",
              " 0.08812507645660664,\n",
              " 0.2502893773993077,\n",
              " 0.22422652201057458,\n",
              " 0.053696071778532556,\n",
              " -0.47456726303360863,\n",
              " 0.14087706427827884,\n",
              " -0.12040224554238324,\n",
              " -0.490208120448405,\n",
              " 0.9983087562216979,\n",
              " -0.18961042274239345,\n",
              " -0.5393524915271221,\n",
              " -0.06607217727158698,\n",
              " 1.0835278734663158,\n",
              " 0.7543936363607139,\n",
              " -0.12273647959197787,\n",
              " 1.1330464325663634,\n",
              " 0.7929810029453745,\n",
              " -0.19977166650032488,\n",
              " -0.8398282406500563,\n",
              " -0.3162472924874489,\n",
              " -0.6753130961785376,\n",
              " 0.4986032248763752,\n",
              " 0.5962946335648792,\n",
              " 0.061115103585941494,\n",
              " -0.3061343213248325,\n",
              " 0.22462057604448807,\n",
              " 0.08035498990336623,\n",
              " 0.2607102195835911,\n",
              " 0.0640109056276711,\n",
              " 0.23681071580624613,\n",
              " 0.2965816906263367,\n",
              " 0.18402162070984376,\n",
              " -0.4953086413338092,\n",
              " -0.22156700230700577,\n",
              " -0.2805362055161986,\n",
              " -0.08046719076630474,\n",
              " 0.12325483206250515,\n",
              " -0.15346803494240288,\n",
              " -0.12215192180317452,\n",
              " 0.31563157653819374,\n",
              " 0.1030860853757386,\n",
              " -0.1945578555452174,\n",
              " -0.19630693903102198,\n",
              " -0.008085679731732492,\n",
              " 0.043282112433326816,\n",
              " 0.256104033543346,\n",
              " 0.16677176598336332,\n",
              " 0.31334363870000276,\n",
              " 0.25358101225377716,\n",
              " -0.40756863866062926,\n",
              " -0.10932414082008574,\n",
              " 0.42748332306537706,\n",
              " 0.3221072565758745,\n",
              " 0.5019984618900497,\n",
              " 0.33092815264260955,\n",
              " 0.6072606648856491,\n",
              " 0.4154071750775483,\n",
              " 0.28216059017118744,\n",
              " 0.25558905364480566,\n",
              " 0.08460596684558458,\n",
              " 0.0866741937726778,\n",
              " 0.018412017154661203,\n",
              " 0.30206811786789883,\n",
              " -0.05456481813845335,\n",
              " -0.2883979505275426,\n",
              " -0.12605898793409898,\n",
              " 0.16500420737962776,\n",
              " -0.47255662485454264,\n",
              " -0.562818174049039,\n",
              " -0.3533251088539189,\n",
              " -0.21323085858567314,\n",
              " -0.4106980749454424,\n",
              " -0.06109447357448353,\n",
              " -0.029532126467491954,\n",
              " -0.11235188608964583,\n",
              " -0.042267807582934525,\n",
              " 0.1502538794926427,\n",
              " -0.17416888154068574,\n",
              " -0.06882564195688168,\n",
              " 0.05048577991302919,\n",
              " -0.2029460304150315,\n",
              " -0.09913596561818401,\n",
              " 0.6299292580413435,\n",
              " 0.3458889596561697,\n",
              " 0.08176447958030733,\n",
              " 0.10503799199059101,\n",
              " 0.673373988945748,\n",
              " 0.33802755869342305,\n",
              " 0.3026631118134293,\n",
              " 0.3392207483927667,\n",
              " 0.6696063136186523,\n",
              " 0.47496837034374323,\n",
              " 0.6232115350401968,\n",
              " 0.8979714208565676,\n",
              " 0.8407997171726573,\n",
              " 4.2020130841241095,\n",
              " 4.063134419703838,\n",
              " 3.9294092449397846,\n",
              " 2.8959242745758593,\n",
              " 2.8482499025484564,\n",
              " 2.940143303776158,\n",
              " 2.7687186297373176,\n",
              " 3.819915862646347,\n",
              " 3.957910704236505,\n",
              " 2.0459282732830464,\n",
              " 2.4459391660862875,\n",
              " 1.7491885527614524,\n",
              " 2.1858140989657633,\n",
              " 3.5044471960193673,\n",
              " 3.5921084676994472,\n",
              " 2.6077986685905534,\n",
              " 3.433042370210119,\n",
              " 3.2284776634304624,\n",
              " 3.2493034275496524,\n",
              " 3.1941176328076653,\n",
              " 3.1585379598493666,\n",
              " 3.2129779586595513,\n",
              " 3.3324224275776806,\n",
              " 3.2158199609820066,\n",
              " 3.9590308834865224,\n",
              " 3.2466117026702768,\n",
              " 3.1221563134206405,\n",
              " 3.1278531044945863,\n",
              " 2.8313222270162863,\n",
              " 3.32358338869971,\n",
              " 3.242541009452014,\n",
              " 3.2879189588186075,\n",
              " 3.1883783006349904,\n",
              " 3.008764836379375,\n",
              " 2.946328239672162,\n",
              " 2.870002057194687,\n",
              " 3.096965816826201,\n",
              " 2.937887386494352,\n",
              " 2.985611766378099,\n",
              " 3.0912607964640375,\n",
              " 3.0878501591878185,\n",
              " 3.0135178209469027,\n",
              " 3.604278609161766,\n",
              " 2.968251936497648,\n",
              " 3.4606565365620194,\n",
              " 3.228051295299881,\n",
              " 3.1407838758864326,\n",
              " 3.1116790788211217,\n",
              " 3.2566587472332658,\n",
              " 3.734787610850963,\n",
              " 2.788479336436271,\n",
              " 2.575890219755253,\n",
              " 2.7424819603350885,\n",
              " 2.5570040587245804,\n",
              " 2.042347672387773,\n",
              " 2.196770873192308,\n",
              " 2.2109781368717742,\n",
              " 2.4908987022807825,\n",
              " 2.921854511509776,\n",
              " 2.592433309596929,\n",
              " 2.377211804808649,\n",
              " 2.520870096411933,\n",
              " 2.861507761783029,\n",
              " 2.310528522096654,\n",
              " 2.9397202929145267,\n",
              " 2.791321018005654,\n",
              " 2.377048242933284,\n",
              " 1.9135100939242993,\n",
              " 1.4564337471520734,\n",
              " 2.24585088810248,\n",
              " 1.4415271045138658,\n",
              " 2.1290324220717625,\n",
              " 2.176844996210357,\n",
              " 2.3978678142904126,\n",
              " 1.97620329409282,\n",
              " 2.22568013357909,\n",
              " 1.7467546253394481,\n",
              " 2.271267442721954,\n",
              " 2.3579792738645318,\n",
              " 2.69703167893809,\n",
              " 2.3252809638113603,\n",
              " 2.5215097200518524,\n",
              " 2.6892018538619613,\n",
              " 3.1630296163388367,\n",
              " 3.29594536630288,\n",
              " 3.2522681562801097,\n",
              " 3.137866501823674,\n",
              " 3.27453517687666,\n",
              " 2.910595480913297,\n",
              " 2.499763169332727,\n",
              " 2.9745038722922823,\n",
              " 3.15219671934144,\n",
              " 3.1724737220584114,\n",
              " 2.9844128059555097,\n",
              " 2.174965616569581,\n",
              " 3.1062322152722746,\n",
              " 3.0314119118999465,\n",
              " 3.3239585287493116,\n",
              " 2.284582709591099,\n",
              " 2.2039671362992945,\n",
              " 2.047731775329406,\n",
              " 1.9448336109236326,\n",
              " 2.7030777246124598,\n",
              " 2.923672805654013,\n",
              " 2.7571055744401036,\n",
              " 2.9576086416039957,\n",
              " 2.9347754412146125,\n",
              " 2.930267196785236,\n",
              " 2.6263730015278246,\n",
              " 2.1873469358626587,\n",
              " 1.8849912404418347,\n",
              " 2.721691584736862,\n",
              " 2.6219317459788574,\n",
              " 2.376056104136428,\n",
              " 2.7074053319580527,\n",
              " 2.593694892630041,\n",
              " 2.5830770437766963,\n",
              " 2.53829242073054,\n",
              " 2.6173215531172387,\n",
              " 2.7785463278083946,\n",
              " 2.940844838329683,\n",
              " 2.9024306325053235,\n",
              " 2.903918071247642,\n",
              " 2.722265803914803,\n",
              " 2.3232190178067134,\n",
              " 2.42344962443269,\n",
              " 2.497528969833132,\n",
              " 1.9886107517225957,\n",
              " 2.1165524348186455,\n",
              " 2.311889584517425,\n",
              " 2.6750782986966195,\n",
              " 2.207021552223338,\n",
              " 2.165940008037622,\n",
              " 2.2447364695192693,\n",
              " 2.2794807706755744,\n",
              " 2.321625808553447,\n",
              " 2.072985587508513,\n",
              " 0.37421369067982185,\n",
              " 0.3435635857689531,\n",
              " 0.2907190930349703,\n",
              " 0.7992681043916267,\n",
              " 0.6670486127318078,\n",
              " 0.5787118043776235,\n",
              " 0.6327170906705436,\n",
              " 0.7753892800780768,\n",
              " 0.4364322585713749,\n",
              " 0.4025994508337066,\n",
              " 0.6082256010624509,\n",
              " 0.5910065083474249,\n",
              " 0.41426905021803284]"
            ]
          },
          "metadata": {},
          "execution_count": 26
        }
      ],
      "source": [
        "all_hypo"
      ]
    },
    {
      "cell_type": "code",
      "execution_count": null,
      "metadata": {
        "id": "j08uSXHys50P",
        "outputId": "bbc25b02-4e08-4002-dc6c-f7c63adde266",
        "colab": {
          "base_uri": "https://localhost:8080/"
        }
      },
      "outputs": [
        {
          "output_type": "execute_result",
          "data": {
            "text/plain": [
              "506"
            ]
          },
          "metadata": {},
          "execution_count": 27
        }
      ],
      "source": [
        "len(all_hypo)"
      ]
    },
    {
      "cell_type": "markdown",
      "metadata": {
        "id": "ieWl_xx3s50Q"
      },
      "source": [
        "### cost function"
      ]
    },
    {
      "cell_type": "code",
      "execution_count": null,
      "metadata": {
        "id": "R69aOdQYs50Q",
        "outputId": "d4cdfb65-7cfc-498c-a068-1d9fc3473cbc",
        "colab": {
          "base_uri": "https://localhost:8080/"
        }
      },
      "outputs": [
        {
          "output_type": "stream",
          "name": "stdout",
          "text": [
            "CPU times: user 7.42 ms, sys: 0 ns, total: 7.42 ms\n",
            "Wall time: 8.86 ms\n"
          ]
        }
      ],
      "source": [
        "%%time\n",
        "# cost function\n",
        "cost = 0\n",
        "for i in range(m):\n",
        "    hypo_i = 0\n",
        "    for j in range(n):\n",
        "        hypo_i += theta[j]*X[i,j]\n",
        "    cost_i = (hypo_i - y[i])**2\n",
        "    cost += cost_i\n",
        "cost = (1/(2*m))*cost\n"
      ]
    },
    {
      "cell_type": "code",
      "execution_count": null,
      "metadata": {
        "id": "HJZqrlQus50Q",
        "outputId": "0f18b741-2039-447e-d878-bb3b45354c3f",
        "colab": {
          "base_uri": "https://localhost:8080/"
        }
      },
      "outputs": [
        {
          "output_type": "execute_result",
          "data": {
            "text/plain": [
              "1.3997529082284266"
            ]
          },
          "metadata": {},
          "execution_count": 29
        }
      ],
      "source": [
        "cost"
      ]
    },
    {
      "cell_type": "code",
      "execution_count": null,
      "metadata": {
        "id": "baNE8w_Hs50Q"
      },
      "outputs": [],
      "source": [
        "def cost_loop(theat = theta, x=X, y=y, m=m, n=n):\n",
        "    cost = 0\n",
        "    for i in range(m):\n",
        "        hypo_i = 0\n",
        "        for j in range(n):\n",
        "            hypo_i += theta[j]*X[i,j]\n",
        "        cost_i = (hypo_i - y[i])**2\n",
        "        cost += cost_i\n",
        "    cost = (1/(2*m))*cost\n",
        "\n",
        "    return cost"
      ]
    },
    {
      "cell_type": "code",
      "execution_count": null,
      "metadata": {
        "id": "5kNgC9qws50Q",
        "outputId": "55aef2e1-b603-4203-e336-c2a9dda42c12",
        "colab": {
          "base_uri": "https://localhost:8080/"
        }
      },
      "outputs": [
        {
          "output_type": "execute_result",
          "data": {
            "text/plain": [
              "1.3997529082284266"
            ]
          },
          "metadata": {},
          "execution_count": 31
        }
      ],
      "source": [
        "cost_loop()"
      ]
    },
    {
      "cell_type": "markdown",
      "metadata": {
        "id": "yGvSHKGOs50Q"
      },
      "source": [
        "### Derivation"
      ]
    },
    {
      "cell_type": "code",
      "execution_count": null,
      "metadata": {
        "id": "jgvyEj9hs50Q",
        "outputId": "14aba5fb-3200-47a7-ed72-9312bfbf717f",
        "colab": {
          "base_uri": "https://localhost:8080/"
        }
      },
      "outputs": [
        {
          "output_type": "stream",
          "name": "stdout",
          "text": [
            "CPU times: user 58.1 ms, sys: 0 ns, total: 58.1 ms\n",
            "Wall time: 61.7 ms\n"
          ]
        }
      ],
      "source": [
        "%%time\n",
        "# derivation\n",
        "dev_list = []\n",
        "for k in range(n):\n",
        "    dev_sum = 0\n",
        "    for i in range(m):\n",
        "        hypo_i = 0\n",
        "        for j in range(n):\n",
        "            hypo_i += theta[j]*X[i,j]\n",
        "        dev_i = (hypo_i - y[i])*X[i,k]\n",
        "        dev_sum += dev_i\n",
        "    dev_sum = (1/m)*dev_sum\n",
        "\n",
        "    dev_list.append(dev_sum)\n"
      ]
    },
    {
      "cell_type": "code",
      "execution_count": null,
      "metadata": {
        "id": "tb8W13FNs50Q",
        "outputId": "7930b5f4-c11e-4033-b139-bf083cb8f9b8",
        "colab": {
          "base_uri": "https://localhost:8080/"
        }
      },
      "outputs": [
        {
          "output_type": "execute_result",
          "data": {
            "text/plain": [
              "[0.9999999999999999,\n",
              " 0.07814620360307896,\n",
              " -0.11042922261438312,\n",
              " 0.2620302340552942,\n",
              " 0.05504439083525137,\n",
              " 0.23892542562534455,\n",
              " -0.06454255823702627,\n",
              " 0.26116343941250986,\n",
              " -0.145367718106573,\n",
              " 0.4310638699789788,\n",
              " 0.3830345528021572,\n",
              " 0.16591512402899944,\n",
              " -0.09920797306076261,\n",
              " 0.1835280968258358]"
            ]
          },
          "metadata": {},
          "execution_count": 33
        }
      ],
      "source": [
        "dev_list"
      ]
    },
    {
      "cell_type": "code",
      "execution_count": null,
      "metadata": {
        "id": "O7nXSGUas50Q"
      },
      "outputs": [],
      "source": [
        "%%time\n",
        "a = 0.0005\n",
        "theta = np.ones(n)\n",
        "\n",
        "cost_list = []\n",
        "\n",
        "\n",
        "for itr in range(100000):\n",
        "\n",
        "    dev_list = []\n",
        "    for k in range(n):\n",
        "        dev_sum = 0\n",
        "        for i in range(m):\n",
        "            hypo_i = 0\n",
        "            for j in range(n):\n",
        "                hypo_i += theta[j]*X[i,j]\n",
        "            dev_i = (hypo_i - y[i])*X[i,k]\n",
        "            dev_sum += dev_i\n",
        "        dev_sum = (1/m)*dev_sum\n",
        "\n",
        "        dev_list.append(dev_sum)\n",
        "\n",
        "    theta = theta - a*np.array(dev_list)\n",
        "\n",
        "    cost_val = cost_loop(theta)\n",
        "\n",
        "    cost_list.append(cost_val)"
      ]
    },
    {
      "cell_type": "code",
      "execution_count": null,
      "metadata": {
        "id": "NBlQo8Des50Q"
      },
      "outputs": [],
      "source": [
        "cost_val"
      ]
    },
    {
      "cell_type": "code",
      "execution_count": null,
      "metadata": {
        "id": "FqA93MrSs50R"
      },
      "outputs": [],
      "source": [
        "plt.plot(np.arange(0, 100000),cost_list)\n",
        "plt.xlabel('Iteration'); plt.ylabel('Cost Function(MSE)'); plt.title('For Loop: MSE Trend over Iterations')"
      ]
    },
    {
      "cell_type": "markdown",
      "metadata": {
        "id": "wOSPaSxRs50R"
      },
      "source": [
        "# Vectorization"
      ]
    },
    {
      "cell_type": "code",
      "execution_count": null,
      "metadata": {
        "id": "wM8h-6-Us50R",
        "outputId": "23251f65-a3be-47bc-dd5c-1a9f74aafda9"
      },
      "outputs": [
        {
          "data": {
            "text/plain": [
              "array([1., 1., 1., 1., 1., 1., 1., 1., 1., 1., 1., 1., 1., 1.])"
            ]
          },
          "execution_count": 108,
          "metadata": {},
          "output_type": "execute_result"
        }
      ],
      "source": [
        "# Initialize theta\n",
        "theta = np.ones(n)\n",
        "\n",
        "theta"
      ]
    },
    {
      "cell_type": "markdown",
      "metadata": {
        "id": "c1Kr49ifs50R"
      },
      "source": [
        "### Hypothesis"
      ]
    },
    {
      "cell_type": "code",
      "execution_count": null,
      "metadata": {
        "id": "S00kYCocs50R",
        "outputId": "01f78c7f-6358-49c0-9136-7094504148e6"
      },
      "outputs": [
        {
          "name": "stdout",
          "output_type": "stream",
          "text": [
            "Wall time: 0 ns\n"
          ]
        }
      ],
      "source": [
        "%%time\n",
        "# matrix format\n",
        "hypo = X@theta"
      ]
    },
    {
      "cell_type": "code",
      "execution_count": null,
      "metadata": {
        "id": "egbmul8Ms50R",
        "outputId": "b4bffc71-40aa-4a24-be2e-2951fb2f9c64"
      },
      "outputs": [
        {
          "data": {
            "text/plain": [
              "array([-3.85461924e-01, -2.01990160e-02, -2.08394374e-01, -4.28524199e-01,\n",
              "       -2.41380473e-01, -3.43180930e-01,  1.69924312e-01,  7.29197411e-01,\n",
              "        9.49984027e-01,  5.68329190e-01,  8.11698248e-01,  4.24583187e-01,\n",
              "       -7.01434344e-02,  4.04763314e-01,  6.57091553e-01,  3.11689742e-01,\n",
              "       -1.85536621e-02,  7.29696754e-01, -2.07577769e-01,  4.28094114e-01,\n",
              "        9.31096515e-01,  7.71971266e-01,  9.78642304e-01,  1.03515487e+00,\n",
              "        9.21349368e-01,  5.55144026e-01,  8.00629342e-01,  7.02807167e-01,\n",
              "        9.26421751e-01,  8.28495317e-01,  9.57752326e-01,  8.62504145e-01,\n",
              "        6.78672120e-01,  8.03614243e-01,  6.77937993e-01,  1.63227470e-02,\n",
              "       -7.03912999e-02, -2.47298378e-01, -3.19504447e-01, -4.12829855e-02,\n",
              "       -8.54030605e-02, -8.26114321e-01, -8.81385380e-01, -8.01224968e-01,\n",
              "       -4.38401606e-01, -5.95133889e-01, -4.71445982e-01,  2.84738321e-01,\n",
              "        6.23351574e-01, -6.44299861e-02, -8.72848508e-02,  4.56007370e-03,\n",
              "       -4.58088422e-01, -4.66415585e-01,  1.26909834e+00,  4.28776102e-01,\n",
              "        3.97207953e-01,  3.51704340e-01,  2.85973359e-01,  4.29532010e-01,\n",
              "        7.20695403e-01,  9.99834887e-01,  7.01104141e-01,  6.50429657e-01,\n",
              "        1.95021946e-01, -4.25811189e-02,  1.51799386e-01, -2.41867727e-01,\n",
              "        2.62089965e-03, -9.94925759e-02, -4.57750131e-01, -3.62000301e-01,\n",
              "       -5.27807405e-01, -4.87536483e-01, -2.64746329e-01,  1.92533318e-01,\n",
              "        5.13595568e-01,  1.81338058e-01,  4.19675768e-01,  6.37224083e-02,\n",
              "       -1.26223407e-01,  2.83196488e-01, -1.81636758e-01, -5.21711790e-02,\n",
              "       -3.56359554e-01, -3.54623455e-01, -4.02790263e-01, -4.47646910e-01,\n",
              "       -1.11926524e-01, -3.34354031e-01, -3.83637771e-01, -3.19087909e-01,\n",
              "        3.18114307e-01, -3.11527292e-02,  5.92412691e-01, -6.14489017e-01,\n",
              "       -3.66796404e-01, -1.19575456e-01, -5.96558998e-01, -3.29678428e-01,\n",
              "        7.44113689e-01,  6.26404723e-01, -4.92748340e-02,  8.13470633e-01,\n",
              "        7.83360964e-01,  8.80840679e-01,  9.02948315e-01,  7.34972553e-01,\n",
              "        9.21031301e-01,  9.05448714e-01,  4.74688289e-01,  6.86178333e-01,\n",
              "        7.84993117e-01,  8.93043851e-01,  5.77535877e-01,  6.11383084e-01,\n",
              "        5.40414712e-01,  5.71561078e-01,  4.19397621e-01,  4.21546938e-01,\n",
              "        6.05123213e-01,  7.41939002e-01,  9.16572097e-01,  1.11314870e+00,\n",
              "        9.17053847e-01,  7.98706697e-01,  1.06107142e+00,  1.62299351e+00,\n",
              "        1.75859115e+00,  1.66710173e+00,  1.71110803e+00,  1.69221934e+00,\n",
              "        1.64189828e+00,  1.63608073e+00,  1.39589417e+00,  1.80144513e+00,\n",
              "        1.61896068e+00,  1.73338702e+00,  1.77987020e+00,  1.76977136e+00,\n",
              "        1.85692299e+00,  2.00595409e+00,  2.58906092e+00,  1.60740619e+00,\n",
              "        1.53488233e+00,  1.18887905e+00,  7.82187651e-01,  1.51702525e+00,\n",
              "        1.43217206e+00,  1.32389571e+00,  1.29550247e+00,  1.08023284e+00,\n",
              "        1.85130172e+00,  1.00185497e+00,  2.19025519e+00,  1.48983886e+00,\n",
              "        4.58037293e-01,  6.39185165e-01,  5.15067068e-01,  1.20193638e+00,\n",
              "        1.41366038e+00,  6.35857133e-01,  1.82607106e+00,  1.93477697e+00,\n",
              "        7.08254405e-01,  3.21785483e-01,  8.30167807e-01,  1.69719743e-01,\n",
              "        5.50943645e-01,  6.63187377e-01,  5.47556609e-01,  6.59953537e-01,\n",
              "       -6.57233185e-02, -1.04723276e-01, -3.54241925e-01, -6.74955252e-01,\n",
              "       -4.54438076e-01, -2.49288609e-01, -1.64535214e-01, -6.11359216e-01,\n",
              "       -1.46264500e-01, -6.31609982e-01, -2.54116236e-01, -2.88377298e-01,\n",
              "       -3.05088086e-01, -4.22598521e-01, -4.91138118e-01, -1.19786757e-01,\n",
              "       -3.01700679e-01, -2.23697142e-02, -1.28823510e-01, -5.48883178e-02,\n",
              "       -6.51734634e-02, -5.91969382e-01, -5.97920835e-01, -1.28739450e-01,\n",
              "       -1.66519264e-01, -1.57581568e-01, -6.75461265e-02,  4.21536401e-01,\n",
              "        4.02814312e-01, -2.17989759e-02, -9.34189053e-02,  4.29266133e-02,\n",
              "        3.27652894e-02, -3.39558265e-01,  9.07373189e-02,  3.76900895e-01,\n",
              "        1.16458570e+00,  1.68999697e+00,  1.55412268e+00,  1.58469151e+00,\n",
              "        1.07039229e+00, -2.12866381e-01, -1.96402618e-01, -1.22981844e-01,\n",
              "        1.04665384e+00,  4.13732724e-01,  1.56051299e+00,  1.45738207e+00,\n",
              "        1.38376043e+00,  1.61245406e+00,  1.30180997e+00,  2.35748409e-01,\n",
              "        3.56532240e-01,  5.01092378e-01,  4.05651676e-01,  2.20528725e-01,\n",
              "       -3.67471619e-01, -5.35105596e-01,  7.71545775e-02,  2.58967974e-01,\n",
              "        3.69667037e-01,  3.26145233e-01,  1.06170949e+00,  6.08942173e-03,\n",
              "        1.30477173e+00,  2.64867316e-01, -3.45607360e-01, -3.85758734e-02,\n",
              "        2.84811103e-01,  2.78930119e-01,  1.79535589e-01, -4.39398951e-01,\n",
              "        7.22385134e-01,  8.66054982e-01,  3.55733116e-01,  8.24878482e-01,\n",
              "        5.12375869e-01,  2.08149964e-01,  6.60869131e-02, -9.68778643e-02,\n",
              "        1.37857246e-01,  4.34564954e-01,  2.05520455e-01,  1.07797714e-01,\n",
              "        1.17864139e-01,  2.03606208e-01,  1.42432588e-01,  5.60614524e-02,\n",
              "        2.21281868e-02,  8.81250765e-02,  2.50289377e-01,  2.24226522e-01,\n",
              "        5.36960718e-02, -4.74567263e-01,  1.40877064e-01, -1.20402246e-01,\n",
              "       -4.90208120e-01,  9.98308756e-01, -1.89610423e-01, -5.39352492e-01,\n",
              "       -6.60721773e-02,  1.08352787e+00,  7.54393636e-01, -1.22736480e-01,\n",
              "        1.13304643e+00,  7.92981003e-01, -1.99771667e-01, -8.39828241e-01,\n",
              "       -3.16247292e-01, -6.75313096e-01,  4.98603225e-01,  5.96294634e-01,\n",
              "        6.11151036e-02, -3.06134321e-01,  2.24620576e-01,  8.03549899e-02,\n",
              "        2.60710220e-01,  6.40109056e-02,  2.36810716e-01,  2.96581691e-01,\n",
              "        1.84021621e-01, -4.95308641e-01, -2.21567002e-01, -2.80536206e-01,\n",
              "       -8.04671908e-02,  1.23254832e-01, -1.53468035e-01, -1.22151922e-01,\n",
              "        3.15631577e-01,  1.03086085e-01, -1.94557856e-01, -1.96306939e-01,\n",
              "       -8.08567973e-03,  4.32821124e-02,  2.56104034e-01,  1.66771766e-01,\n",
              "        3.13343639e-01,  2.53581012e-01, -4.07568639e-01, -1.09324141e-01,\n",
              "        4.27483323e-01,  3.22107257e-01,  5.01998462e-01,  3.30928153e-01,\n",
              "        6.07260665e-01,  4.15407175e-01,  2.82160590e-01,  2.55589054e-01,\n",
              "        8.46059668e-02,  8.66741938e-02,  1.84120172e-02,  3.02068118e-01,\n",
              "       -5.45648181e-02, -2.88397951e-01, -1.26058988e-01,  1.65004207e-01,\n",
              "       -4.72556625e-01, -5.62818174e-01, -3.53325109e-01, -2.13230859e-01,\n",
              "       -4.10698075e-01, -6.10944736e-02, -2.95321265e-02, -1.12351886e-01,\n",
              "       -4.22678076e-02,  1.50253879e-01, -1.74168882e-01, -6.88256420e-02,\n",
              "        5.04857799e-02, -2.02946030e-01, -9.91359656e-02,  6.29929258e-01,\n",
              "        3.45888960e-01,  8.17644796e-02,  1.05037992e-01,  6.73373989e-01,\n",
              "        3.38027559e-01,  3.02663112e-01,  3.39220748e-01,  6.69606314e-01,\n",
              "        4.74968370e-01,  6.23211535e-01,  8.97971421e-01,  8.40799717e-01,\n",
              "        4.20201308e+00,  4.06313442e+00,  3.92940924e+00,  2.89592427e+00,\n",
              "        2.84824990e+00,  2.94014330e+00,  2.76871863e+00,  3.81991586e+00,\n",
              "        3.95791070e+00,  2.04592827e+00,  2.44593917e+00,  1.74918855e+00,\n",
              "        2.18581410e+00,  3.50444720e+00,  3.59210847e+00,  2.60779867e+00,\n",
              "        3.43304237e+00,  3.22847766e+00,  3.24930343e+00,  3.19411763e+00,\n",
              "        3.15853796e+00,  3.21297796e+00,  3.33242243e+00,  3.21581996e+00,\n",
              "        3.95903088e+00,  3.24661170e+00,  3.12215631e+00,  3.12785310e+00,\n",
              "        2.83132223e+00,  3.32358339e+00,  3.24254101e+00,  3.28791896e+00,\n",
              "        3.18837830e+00,  3.00876484e+00,  2.94632824e+00,  2.87000206e+00,\n",
              "        3.09696582e+00,  2.93788739e+00,  2.98561177e+00,  3.09126080e+00,\n",
              "        3.08785016e+00,  3.01351782e+00,  3.60427861e+00,  2.96825194e+00,\n",
              "        3.46065654e+00,  3.22805130e+00,  3.14078388e+00,  3.11167908e+00,\n",
              "        3.25665875e+00,  3.73478761e+00,  2.78847934e+00,  2.57589022e+00,\n",
              "        2.74248196e+00,  2.55700406e+00,  2.04234767e+00,  2.19677087e+00,\n",
              "        2.21097814e+00,  2.49089870e+00,  2.92185451e+00,  2.59243331e+00,\n",
              "        2.37721180e+00,  2.52087010e+00,  2.86150776e+00,  2.31052852e+00,\n",
              "        2.93972029e+00,  2.79132102e+00,  2.37704824e+00,  1.91351009e+00,\n",
              "        1.45643375e+00,  2.24585089e+00,  1.44152710e+00,  2.12903242e+00,\n",
              "        2.17684500e+00,  2.39786781e+00,  1.97620329e+00,  2.22568013e+00,\n",
              "        1.74675463e+00,  2.27126744e+00,  2.35797927e+00,  2.69703168e+00,\n",
              "        2.32528096e+00,  2.52150972e+00,  2.68920185e+00,  3.16302962e+00,\n",
              "        3.29594537e+00,  3.25226816e+00,  3.13786650e+00,  3.27453518e+00,\n",
              "        2.91059548e+00,  2.49976317e+00,  2.97450387e+00,  3.15219672e+00,\n",
              "        3.17247372e+00,  2.98441281e+00,  2.17496562e+00,  3.10623222e+00,\n",
              "        3.03141191e+00,  3.32395853e+00,  2.28458271e+00,  2.20396714e+00,\n",
              "        2.04773178e+00,  1.94483361e+00,  2.70307772e+00,  2.92367281e+00,\n",
              "        2.75710557e+00,  2.95760864e+00,  2.93477544e+00,  2.93026720e+00,\n",
              "        2.62637300e+00,  2.18734694e+00,  1.88499124e+00,  2.72169158e+00,\n",
              "        2.62193175e+00,  2.37605610e+00,  2.70740533e+00,  2.59369489e+00,\n",
              "        2.58307704e+00,  2.53829242e+00,  2.61732155e+00,  2.77854633e+00,\n",
              "        2.94084484e+00,  2.90243063e+00,  2.90391807e+00,  2.72226580e+00,\n",
              "        2.32321902e+00,  2.42344962e+00,  2.49752897e+00,  1.98861075e+00,\n",
              "        2.11655243e+00,  2.31188958e+00,  2.67507830e+00,  2.20702155e+00,\n",
              "        2.16594001e+00,  2.24473647e+00,  2.27948077e+00,  2.32162581e+00,\n",
              "        2.07298559e+00,  3.74213691e-01,  3.43563586e-01,  2.90719093e-01,\n",
              "        7.99268104e-01,  6.67048613e-01,  5.78711804e-01,  6.32717091e-01,\n",
              "        7.75389280e-01,  4.36432259e-01,  4.02599451e-01,  6.08225601e-01,\n",
              "        5.91006508e-01,  4.14269050e-01])"
            ]
          },
          "execution_count": 110,
          "metadata": {},
          "output_type": "execute_result"
        }
      ],
      "source": [
        "hypo"
      ]
    },
    {
      "cell_type": "markdown",
      "metadata": {
        "id": "ILUvqwbZs50R"
      },
      "source": [
        "### Cost function"
      ]
    },
    {
      "cell_type": "code",
      "execution_count": null,
      "metadata": {
        "id": "aLDFVNlPs50R",
        "outputId": "63632a49-1eb3-4d34-b0de-63a08d9ccf3f"
      },
      "outputs": [
        {
          "name": "stdout",
          "output_type": "stream",
          "text": [
            "Wall time: 0 ns\n"
          ]
        }
      ],
      "source": [
        "%%time\n",
        "# cost function\n",
        "cost = (1/(2*m))*np.transpose((X@theta - y))@(X@theta - y)"
      ]
    },
    {
      "cell_type": "code",
      "execution_count": null,
      "metadata": {
        "id": "2mHZGR2ls50R",
        "outputId": "8b6bd4a5-08f4-493d-a2b7-37e22f6a10e6"
      },
      "outputs": [
        {
          "data": {
            "text/plain": [
              "1.3997529082284244"
            ]
          },
          "execution_count": 113,
          "metadata": {},
          "output_type": "execute_result"
        }
      ],
      "source": [
        "cost"
      ]
    },
    {
      "cell_type": "code",
      "execution_count": null,
      "metadata": {
        "id": "MCCKMqhEs50R",
        "outputId": "688502b4-e085-4b35-a1a4-0f12033bbbb7"
      },
      "outputs": [
        {
          "data": {
            "text/plain": [
              "6"
            ]
          },
          "execution_count": 114,
          "metadata": {},
          "output_type": "execute_result"
        }
      ],
      "source": [
        "a = np.array([1,2,3])\n",
        "b = np.array([1,1,1])\n",
        "a@b"
      ]
    },
    {
      "cell_type": "code",
      "execution_count": null,
      "metadata": {
        "id": "cgCU54JPs50V",
        "outputId": "578b4cc9-64b2-48ea-c782-399fdf1354fe"
      },
      "outputs": [
        {
          "data": {
            "text/plain": [
              "6"
            ]
          },
          "execution_count": 115,
          "metadata": {},
          "output_type": "execute_result"
        }
      ],
      "source": [
        "a@np.transpose(b)"
      ]
    },
    {
      "cell_type": "code",
      "execution_count": null,
      "metadata": {
        "id": "fnTpDKfqs50V"
      },
      "outputs": [],
      "source": [
        "def cost(theta, X=X, y=y, m=m):\n",
        "    cost = np.transpose((X@theta - y))@(X@theta - y)\n",
        "    cost = (1/(2*m))*cost\n",
        "    return cost"
      ]
    },
    {
      "cell_type": "code",
      "execution_count": null,
      "metadata": {
        "id": "ycZgr6bxs50V",
        "outputId": "dfdfbb54-1736-4d48-8de1-284cb9c7bba1"
      },
      "outputs": [
        {
          "data": {
            "text/plain": [
              "1.3997529082284244"
            ]
          },
          "execution_count": 117,
          "metadata": {},
          "output_type": "execute_result"
        }
      ],
      "source": [
        "cost(theta)"
      ]
    },
    {
      "cell_type": "markdown",
      "metadata": {
        "id": "452gKvEts50W"
      },
      "source": [
        "# Derivation"
      ]
    },
    {
      "cell_type": "code",
      "execution_count": null,
      "metadata": {
        "id": "-itqwhwVs50W",
        "outputId": "e24b7fa0-d7cf-4278-dff8-448d6049eeab"
      },
      "outputs": [
        {
          "name": "stdout",
          "output_type": "stream",
          "text": [
            "Wall time: 0 ns\n"
          ]
        }
      ],
      "source": [
        "%%time\n",
        "dev = (1/m)*np.transpose(X)@(X@theta - y)"
      ]
    },
    {
      "cell_type": "code",
      "execution_count": null,
      "metadata": {
        "id": "UR81EwvWs50W",
        "outputId": "3f2ebc6b-407a-4bcc-ac1b-824a06657469"
      },
      "outputs": [
        {
          "data": {
            "text/plain": [
              "array([ 1.        ,  0.0781462 , -0.11042922,  0.26203023,  0.05504439,\n",
              "        0.23892543, -0.06454256,  0.26116344, -0.14536772,  0.43106387,\n",
              "        0.38303455,  0.16591512, -0.09920797,  0.1835281 ])"
            ]
          },
          "execution_count": 121,
          "metadata": {},
          "output_type": "execute_result"
        }
      ],
      "source": [
        "dev"
      ]
    },
    {
      "cell_type": "code",
      "execution_count": null,
      "metadata": {
        "id": "pEJEdubTs50W"
      },
      "outputs": [],
      "source": [
        "def cost_dev(thetar=theta, X=X, y=y, m=m):\n",
        "    dev = np.transpose(X)@(X@thetar - y)\n",
        "    dev = (1/m)*dev\n",
        "    return np.array(dev)"
      ]
    },
    {
      "cell_type": "code",
      "execution_count": null,
      "metadata": {
        "id": "6QIlmP9is50W",
        "outputId": "b91b8b1f-4ae7-4779-ae4c-55c8f0860181"
      },
      "outputs": [
        {
          "data": {
            "text/plain": [
              "array([ 1.        ,  0.0781462 , -0.11042922,  0.26203023,  0.05504439,\n",
              "        0.23892543, -0.06454256,  0.26116344, -0.14536772,  0.43106387,\n",
              "        0.38303455,  0.16591512, -0.09920797,  0.1835281 ])"
            ]
          },
          "execution_count": 123,
          "metadata": {},
          "output_type": "execute_result"
        }
      ],
      "source": [
        "cost_dev()"
      ]
    },
    {
      "cell_type": "code",
      "execution_count": null,
      "metadata": {
        "id": "JLw0LBQ9s50W",
        "outputId": "3b5b131e-3d1e-486f-cfda-bf9a90bc7167"
      },
      "outputs": [
        {
          "data": {
            "text/plain": [
              "(506,)"
            ]
          },
          "execution_count": 124,
          "metadata": {},
          "output_type": "execute_result"
        }
      ],
      "source": [
        "(X@theta-y).shape"
      ]
    },
    {
      "cell_type": "code",
      "execution_count": null,
      "metadata": {
        "id": "rQeNZWiIs50W",
        "outputId": "f221f05c-b1cc-464a-9f1a-bcb9b172cccb"
      },
      "outputs": [
        {
          "data": {
            "text/plain": [
              "(506, 14)"
            ]
          },
          "execution_count": 125,
          "metadata": {},
          "output_type": "execute_result"
        }
      ],
      "source": [
        "X.shape"
      ]
    },
    {
      "cell_type": "code",
      "execution_count": null,
      "metadata": {
        "id": "Y099jARss50W"
      },
      "outputs": [],
      "source": [
        "# assign a learnin rate\n",
        "a = 0.0005"
      ]
    },
    {
      "cell_type": "code",
      "execution_count": null,
      "metadata": {
        "id": "xmhCFsygs50X",
        "outputId": "42c7fecd-9277-437e-80de-26cdf565b77f"
      },
      "outputs": [
        {
          "data": {
            "text/plain": [
              "array([1., 1., 1., 1., 1., 1., 1., 1., 1., 1., 1., 1., 1., 1.])"
            ]
          },
          "execution_count": 127,
          "metadata": {},
          "output_type": "execute_result"
        }
      ],
      "source": [
        "theta = np.ones(n)\n",
        "theta"
      ]
    },
    {
      "cell_type": "code",
      "execution_count": null,
      "metadata": {
        "id": "ZAPHQEq9s50X",
        "outputId": "cc5923f2-8f03-4b2f-a9e2-fbbec2814dd5"
      },
      "outputs": [
        {
          "name": "stdout",
          "output_type": "stream",
          "text": [
            "Wall time: 1.75 s\n"
          ]
        }
      ],
      "source": [
        "%%time\n",
        "a = 0.0005\n",
        "theta = np.ones(n)\n",
        "\n",
        "cost_list = []\n",
        "\n",
        "for i in range(100000):\n",
        "\n",
        "    theta = theta - a*(1/m)*np.transpose(X)@(X@theta - y)\n",
        "\n",
        "    cost_val = cost(theta)\n",
        "    cost_list.append(cost_val)"
      ]
    },
    {
      "cell_type": "code",
      "execution_count": null,
      "metadata": {
        "id": "O1ukL196s50X",
        "outputId": "cd4f8e81-a5d0-4135-8e5d-c4a6659b091d"
      },
      "outputs": [
        {
          "data": {
            "text/plain": [
              "Text(0.5,1,'Vectorization: MSE Trend over Iterations')"
            ]
          },
          "execution_count": 135,
          "metadata": {},
          "output_type": "execute_result"
        },
        {
          "data": {
            "image/png": "[encoded data removed]",
            "text/plain": [
              "<Figure size 432x288 with 1 Axes>"
            ]
          },
          "metadata": {},
          "output_type": "display_data"
        }
      ],
      "source": [
        "plt.plot(np.arange(0, 100000),cost_list)\n",
        "plt.xlabel('Iteration'); plt.ylabel('Cost Function(MSE)'); plt.title('Vectorization: MSE Trend over Iterations')"
      ]
    },
    {
      "cell_type": "code",
      "execution_count": null,
      "metadata": {
        "id": "JT6rvgF0s50X",
        "outputId": "448439be-5e0f-4a87-8fc1-1d898c1470c4"
      },
      "outputs": [
        {
          "data": {
            "text/plain": [
              "0.017663350184258835"
            ]
          },
          "execution_count": 134,
          "metadata": {},
          "output_type": "execute_result"
        }
      ],
      "source": [
        "cost_val"
      ]
    },
    {
      "cell_type": "markdown",
      "metadata": {
        "id": "ZzNxeClRs50X"
      },
      "source": [
        "* Time comparison"
      ]
    },
    {
      "cell_type": "code",
      "execution_count": null,
      "metadata": {
        "id": "74_J6YFMs50X",
        "outputId": "2b5e3ffd-4da5-46b0-f1e6-c0997b2ca528"
      },
      "outputs": [
        {
          "data": {
            "text/plain": [
              "Text(0.5,1,'Comparison of running time')"
            ]
          },
          "execution_count": 149,
          "metadata": {},
          "output_type": "execute_result"
        },
        {
          "data": {
            "image/png": "[encoded data removed]",
            "text/plain": [
              "<Figure size 576x576 with 1 Axes>"
            ]
          },
          "metadata": {},
          "output_type": "display_data"
        }
      ],
      "source": [
        "figsize(8,8)\n",
        "\n",
        "methods = ('For Loop', 'Vectorization')\n",
        "x = [0,1]\n",
        "time = [4558, 1.75]\n",
        "plt.bar(x, time, width=0.3, align='center', alpha = 0.8)\n",
        "plt.xticks(x, methods)\n",
        "plt.ylabel('Running Time(Seconds)')\n",
        "plt.title('Comparison of running time')"
      ]
    },
    {
      "cell_type": "markdown",
      "metadata": {
        "id": "oBkLwLn0s50X"
      },
      "source": [
        "# Compare with sk-learn"
      ]
    },
    {
      "cell_type": "code",
      "execution_count": null,
      "metadata": {
        "id": "dyQtTRPhs50Y"
      },
      "outputs": [],
      "source": [
        "coef = pd.DataFrame(theta_list)"
      ]
    },
    {
      "cell_type": "code",
      "execution_count": null,
      "metadata": {
        "id": "Xh4Mf76hs50Y",
        "outputId": "bf440246-8ed3-43d0-e874-ba9ed5e38565"
      },
      "outputs": [
        {
          "data": {
            "text/plain": [
              "LinearRegression(copy_X=True, fit_intercept=True, n_jobs=1, normalize=False)"
            ]
          },
          "execution_count": 44,
          "metadata": {},
          "output_type": "execute_result"
        }
      ],
      "source": [
        "from sklearn.linear_model import LinearRegression\n",
        "\n",
        "lr = LinearRegression()\n",
        "lr.fit(X, y)"
      ]
    },
    {
      "cell_type": "code",
      "execution_count": null,
      "metadata": {
        "id": "r_NLxlhNs50Y",
        "outputId": "34831fc1-9077-4435-e860-fd76851d6a42"
      },
      "outputs": [
        {
          "data": {
            "text/plain": [
              "array([ 0.        , -0.21355017,  0.10315657,  0.0124631 ,  0.0597052 ,\n",
              "       -0.1918794 ,  0.4418597 ,  0.00149367, -0.36059247,  0.15642529,\n",
              "       -0.14362949, -0.19901831,  0.08206283, -0.42260541])"
            ]
          },
          "execution_count": 45,
          "metadata": {},
          "output_type": "execute_result"
        }
      ],
      "source": [
        "lr.coef_"
      ]
    },
    {
      "cell_type": "code",
      "execution_count": null,
      "metadata": {
        "id": "zzWXf51Ns50Y",
        "outputId": "ddf335fb-95e8-4240-9bed-39fa4dfee438"
      },
      "outputs": [
        {
          "data": {
            "text/plain": [
              "-3.1278581821121023e-16"
            ]
          },
          "execution_count": 46,
          "metadata": {},
          "output_type": "execute_result"
        }
      ],
      "source": [
        "lr.intercept_"
      ]
    },
    {
      "cell_type": "code",
      "execution_count": null,
      "metadata": {
        "id": "WaA7w_L4s50Y",
        "outputId": "63c7d21b-f33a-44ba-d1b7-dd75cc0360c7"
      },
      "outputs": [
        {
          "data": {
            "text/plain": [
              "array([-2.70314260e-16, -1.07123973e-01,  8.20555240e-02,  1.78799320e-02,\n",
              "        6.15094904e-02, -1.64545646e-01,  4.89301460e-01, -2.72985299e-03,\n",
              "       -3.06608841e-01,  1.30539136e-01, -1.33236313e-01, -1.94457026e-01,\n",
              "        9.02773726e-02, -4.11697956e-01])"
            ]
          },
          "execution_count": 47,
          "metadata": {},
          "output_type": "execute_result"
        }
      ],
      "source": [
        "theta"
      ]
    },
    {
      "cell_type": "code",
      "execution_count": null,
      "metadata": {
        "id": "I74jRCbks50Y",
        "outputId": "9653fcdf-7b1b-4380-eafa-6779adc43a63"
      },
      "outputs": [
        {
          "name": "stdout",
          "output_type": "stream",
          "text": [
            "Coefficient from SKlearn.LinearRegresson: [ 0.         -0.21355017  0.10315657  0.0124631   0.0597052  -0.1918794\n",
            "  0.4418597   0.00149367 -0.36059247  0.15642529 -0.14362949 -0.19901831\n",
            "  0.08206283 -0.42260541]\n"
          ]
        }
      ],
      "source": [
        "print('Coefficient from SKlearn.LinearRegresson: {}'. format(lr.coef_))"
      ]
    },
    {
      "cell_type": "code",
      "execution_count": null,
      "metadata": {
        "id": "06yron2js50Y",
        "outputId": "1b4e176d-69fc-440a-eb1e-3c259bd11676"
      },
      "outputs": [
        {
          "data": {
            "text/plain": [
              "-0.21355016767504129"
            ]
          },
          "execution_count": 49,
          "metadata": {},
          "output_type": "execute_result"
        }
      ],
      "source": [
        "lr.coef_[1]"
      ]
    },
    {
      "cell_type": "code",
      "execution_count": null,
      "metadata": {
        "id": "sKASI6iKs50Z"
      },
      "outputs": [],
      "source": [
        "test= pd.DataFrame(theta)"
      ]
    },
    {
      "cell_type": "code",
      "execution_count": null,
      "metadata": {
        "id": "C3LOEssds50Z",
        "outputId": "6befd008-944d-45ca-9206-43c61d74418b"
      },
      "outputs": [
        {
          "data": {
            "text/html": [
              "<div>\n",
              "<style scoped>\n",
              "    .dataframe tbody tr th:only-of-type {\n",
              "        vertical-align: middle;\n",
              "    }\n",
              "\n",
              "    .dataframe tbody tr th {\n",
              "        vertical-align: top;\n",
              "    }\n",
              "\n",
              "    .dataframe thead th {\n",
              "        text-align: right;\n",
              "    }\n",
              "</style>\n",
              "<table border=\"1\" class=\"dataframe\">\n",
              "  <thead>\n",
              "    <tr style=\"text-align: right;\">\n",
              "      <th></th>\n",
              "      <th>0</th>\n",
              "    </tr>\n",
              "  </thead>\n",
              "  <tbody>\n",
              "    <tr>\n",
              "      <th>0</th>\n",
              "      <td>-2.703143e-16</td>\n",
              "    </tr>\n",
              "    <tr>\n",
              "      <th>1</th>\n",
              "      <td>-1.071240e-01</td>\n",
              "    </tr>\n",
              "    <tr>\n",
              "      <th>2</th>\n",
              "      <td>8.205552e-02</td>\n",
              "    </tr>\n",
              "    <tr>\n",
              "      <th>3</th>\n",
              "      <td>1.787993e-02</td>\n",
              "    </tr>\n",
              "    <tr>\n",
              "      <th>4</th>\n",
              "      <td>6.150949e-02</td>\n",
              "    </tr>\n",
              "    <tr>\n",
              "      <th>5</th>\n",
              "      <td>-1.645456e-01</td>\n",
              "    </tr>\n",
              "    <tr>\n",
              "      <th>6</th>\n",
              "      <td>4.893015e-01</td>\n",
              "    </tr>\n",
              "    <tr>\n",
              "      <th>7</th>\n",
              "      <td>-2.729853e-03</td>\n",
              "    </tr>\n",
              "    <tr>\n",
              "      <th>8</th>\n",
              "      <td>-3.066088e-01</td>\n",
              "    </tr>\n",
              "    <tr>\n",
              "      <th>9</th>\n",
              "      <td>1.305391e-01</td>\n",
              "    </tr>\n",
              "    <tr>\n",
              "      <th>10</th>\n",
              "      <td>-1.332363e-01</td>\n",
              "    </tr>\n",
              "    <tr>\n",
              "      <th>11</th>\n",
              "      <td>-1.944570e-01</td>\n",
              "    </tr>\n",
              "    <tr>\n",
              "      <th>12</th>\n",
              "      <td>9.027737e-02</td>\n",
              "    </tr>\n",
              "    <tr>\n",
              "      <th>13</th>\n",
              "      <td>-4.116980e-01</td>\n",
              "    </tr>\n",
              "  </tbody>\n",
              "</table>\n",
              "</div>"
            ],
            "text/plain": [
              "               0\n",
              "0  -2.703143e-16\n",
              "1  -1.071240e-01\n",
              "2   8.205552e-02\n",
              "3   1.787993e-02\n",
              "4   6.150949e-02\n",
              "5  -1.645456e-01\n",
              "6   4.893015e-01\n",
              "7  -2.729853e-03\n",
              "8  -3.066088e-01\n",
              "9   1.305391e-01\n",
              "10 -1.332363e-01\n",
              "11 -1.944570e-01\n",
              "12  9.027737e-02\n",
              "13 -4.116980e-01"
            ]
          },
          "execution_count": 51,
          "metadata": {},
          "output_type": "execute_result"
        }
      ],
      "source": [
        "test"
      ]
    },
    {
      "cell_type": "code",
      "execution_count": null,
      "metadata": {
        "id": "jyqvnh3ds50Z"
      },
      "outputs": [],
      "source": [
        "test['LinearRegression()']= lr.coef_"
      ]
    },
    {
      "cell_type": "code",
      "execution_count": null,
      "metadata": {
        "id": "eBZ4VyC6s50Z"
      },
      "outputs": [],
      "source": [
        "test['LinearRegression()'][0] = lr.intercept_"
      ]
    },
    {
      "cell_type": "code",
      "execution_count": null,
      "metadata": {
        "id": "hKwdy3-Ms50Z"
      },
      "outputs": [],
      "source": [
        "test=test.rename(columns = {0: 'Gradient Descent'})"
      ]
    },
    {
      "cell_type": "code",
      "execution_count": null,
      "metadata": {
        "id": "L55yEJjYs50Z"
      },
      "outputs": [],
      "source": [
        "#test.index = pd.Index(['Intercept', 'theta1', 'theta2'])"
      ]
    },
    {
      "cell_type": "code",
      "execution_count": null,
      "metadata": {
        "id": "tiQh0PyKs50Z",
        "outputId": "e5476730-b9b6-433f-881b-0d867a6e2550"
      },
      "outputs": [
        {
          "data": {
            "text/html": [
              "<div>\n",
              "<style scoped>\n",
              "    .dataframe tbody tr th:only-of-type {\n",
              "        vertical-align: middle;\n",
              "    }\n",
              "\n",
              "    .dataframe tbody tr th {\n",
              "        vertical-align: top;\n",
              "    }\n",
              "\n",
              "    .dataframe thead th {\n",
              "        text-align: right;\n",
              "    }\n",
              "</style>\n",
              "<table border=\"1\" class=\"dataframe\">\n",
              "  <thead>\n",
              "    <tr style=\"text-align: right;\">\n",
              "      <th></th>\n",
              "      <th>Gradient Descent</th>\n",
              "      <th>LinearRegression()</th>\n",
              "    </tr>\n",
              "  </thead>\n",
              "  <tbody>\n",
              "    <tr>\n",
              "      <th>0</th>\n",
              "      <td>-2.703143e-16</td>\n",
              "      <td>-3.127858e-16</td>\n",
              "    </tr>\n",
              "    <tr>\n",
              "      <th>1</th>\n",
              "      <td>-1.071240e-01</td>\n",
              "      <td>-2.135502e-01</td>\n",
              "    </tr>\n",
              "    <tr>\n",
              "      <th>2</th>\n",
              "      <td>8.205552e-02</td>\n",
              "      <td>1.031566e-01</td>\n",
              "    </tr>\n",
              "    <tr>\n",
              "      <th>3</th>\n",
              "      <td>1.787993e-02</td>\n",
              "      <td>1.246310e-02</td>\n",
              "    </tr>\n",
              "    <tr>\n",
              "      <th>4</th>\n",
              "      <td>6.150949e-02</td>\n",
              "      <td>5.970520e-02</td>\n",
              "    </tr>\n",
              "    <tr>\n",
              "      <th>5</th>\n",
              "      <td>-1.645456e-01</td>\n",
              "      <td>-1.918794e-01</td>\n",
              "    </tr>\n",
              "    <tr>\n",
              "      <th>6</th>\n",
              "      <td>4.893015e-01</td>\n",
              "      <td>4.418597e-01</td>\n",
              "    </tr>\n",
              "    <tr>\n",
              "      <th>7</th>\n",
              "      <td>-2.729853e-03</td>\n",
              "      <td>1.493667e-03</td>\n",
              "    </tr>\n",
              "    <tr>\n",
              "      <th>8</th>\n",
              "      <td>-3.066088e-01</td>\n",
              "      <td>-3.605925e-01</td>\n",
              "    </tr>\n",
              "    <tr>\n",
              "      <th>9</th>\n",
              "      <td>1.305391e-01</td>\n",
              "      <td>1.564253e-01</td>\n",
              "    </tr>\n",
              "    <tr>\n",
              "      <th>10</th>\n",
              "      <td>-1.332363e-01</td>\n",
              "      <td>-1.436295e-01</td>\n",
              "    </tr>\n",
              "    <tr>\n",
              "      <th>11</th>\n",
              "      <td>-1.944570e-01</td>\n",
              "      <td>-1.990183e-01</td>\n",
              "    </tr>\n",
              "    <tr>\n",
              "      <th>12</th>\n",
              "      <td>9.027737e-02</td>\n",
              "      <td>8.206283e-02</td>\n",
              "    </tr>\n",
              "    <tr>\n",
              "      <th>13</th>\n",
              "      <td>-4.116980e-01</td>\n",
              "      <td>-4.226054e-01</td>\n",
              "    </tr>\n",
              "  </tbody>\n",
              "</table>\n",
              "</div>"
            ],
            "text/plain": [
              "    Gradient Descent  LinearRegression()\n",
              "0      -2.703143e-16       -3.127858e-16\n",
              "1      -1.071240e-01       -2.135502e-01\n",
              "2       8.205552e-02        1.031566e-01\n",
              "3       1.787993e-02        1.246310e-02\n",
              "4       6.150949e-02        5.970520e-02\n",
              "5      -1.645456e-01       -1.918794e-01\n",
              "6       4.893015e-01        4.418597e-01\n",
              "7      -2.729853e-03        1.493667e-03\n",
              "8      -3.066088e-01       -3.605925e-01\n",
              "9       1.305391e-01        1.564253e-01\n",
              "10     -1.332363e-01       -1.436295e-01\n",
              "11     -1.944570e-01       -1.990183e-01\n",
              "12      9.027737e-02        8.206283e-02\n",
              "13     -4.116980e-01       -4.226054e-01"
            ]
          },
          "execution_count": 57,
          "metadata": {},
          "output_type": "execute_result"
        }
      ],
      "source": [
        "test"
      ]
    }
  ],
  "metadata": {
    "kernelspec": {
      "display_name": "Python 3",
      "language": "python",
      "name": "python3"
    },
    "language_info": {
      "codemirror_mode": {
        "name": "ipython",
        "version": 3
      },
      "file_extension": ".py",
      "mimetype": "text/x-python",
      "name": "python",
      "nbconvert_exporter": "python",
      "pygments_lexer": "ipython3",
      "version": "3.6.6"
    },
    "colab": {
      "provenance": [],
      "include_colab_link": true
    }
  },
  "nbformat": 4,
  "nbformat_minor": 0
}